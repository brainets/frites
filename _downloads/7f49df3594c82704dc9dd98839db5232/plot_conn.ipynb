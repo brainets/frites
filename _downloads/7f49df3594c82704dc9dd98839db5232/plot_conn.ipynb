{
  "cells": [
    {
      "cell_type": "markdown",
      "metadata": {},
      "source": [
        "\n# Estimate comodulations between brain areas\n\nThis example illustrates how to estimate the instantaneous comodulations using\nmutual information between pairwise ROI and also perform statistics.\n"
      ]
    },
    {
      "cell_type": "code",
      "execution_count": null,
      "metadata": {
        "collapsed": false
      },
      "outputs": [],
      "source": [
        "import numpy as np\nimport xarray as xr\n\nfrom itertools import product\n\nfrom frites.simulations import sim_multi_suj_ephy\nfrom frites.dataset import DatasetEphy\nfrom frites.workflow import WfConnComod\nfrom frites import set_mpl_style\n\nimport matplotlib.pyplot as plt\nset_mpl_style()"
      ]
    },
    {
      "cell_type": "markdown",
      "metadata": {},
      "source": [
        "## Simulate electrophysiological data\n\nLet's start by simulating MEG / EEG electrophysiological data coming from\nmultiple subjects using the function\n:func:`frites.simulations.sim_multi_suj_ephy`. As a result, the `x` output\nis a list of length `n_subjects` of arrays, each one with a shape of\nn_epochs, n_sites, n_times\n\n"
      ]
    },
    {
      "cell_type": "code",
      "execution_count": null,
      "metadata": {
        "collapsed": false
      },
      "outputs": [],
      "source": [
        "modality = 'meeg'\nn_subjects = 5\nn_epochs = 50\nn_times = 100\nx, roi, _ = sim_multi_suj_ephy(n_subjects=n_subjects, n_epochs=n_epochs,\n                               n_times=n_times, modality=modality,\n                               random_state=0, n_roi=4)\ntimes = np.linspace(-1, 1, n_times)"
      ]
    },
    {
      "cell_type": "markdown",
      "metadata": {},
      "source": [
        "## Simulate spatial correlations\n\nBellow, we start by simulating some distant correlations by injecting the\nactivity of an ROI to another\n\n"
      ]
    },
    {
      "cell_type": "code",
      "execution_count": null,
      "metadata": {
        "collapsed": false
      },
      "outputs": [],
      "source": [
        "for k in range(n_subjects):\n    x[k][:, [1], slice(20, 40)] += x[k][:, [0], slice(20, 40)]\n    x[k][:, [2], slice(60, 80)] += x[k][:, [3], slice(60, 80)]\nprint(f'Corr 1 : {roi[0][0]}-{roi[0][1]} between [{times[20]}-{times[40]}]')\nprint(f'Corr 2 : {roi[0][2]}-{roi[0][3]} between [{times[60]}-{times[80]}]')"
      ]
    },
    {
      "cell_type": "markdown",
      "metadata": {},
      "source": [
        "## Define the electrophysiological dataset\n\nNow we define an instance of :class:`frites.dataset.DatasetEphy`\n\n"
      ]
    },
    {
      "cell_type": "code",
      "execution_count": null,
      "metadata": {
        "collapsed": false
      },
      "outputs": [],
      "source": [
        "dt = DatasetEphy(x, roi=roi, times=times)"
      ]
    },
    {
      "cell_type": "markdown",
      "metadata": {},
      "source": [
        "## Compute the pairwise connectivity\n\nOnce we have the dataset instance, we can then define an instance of workflow\n:class:`frites.workflow.WfConnComod`. This instance is then used to compute\nthe pairwise connectivity\n\n"
      ]
    },
    {
      "cell_type": "code",
      "execution_count": null,
      "metadata": {
        "collapsed": false
      },
      "outputs": [],
      "source": [
        "n_perm = 100  # number of permutations to compute\nkernel = np.hanning(10)  # used for smoothing the MI\n\nwf = WfConnComod(kernel=kernel)\nmi, pv = wf.fit(dt, n_perm=n_perm, n_jobs=1)\nprint(mi)"
      ]
    },
    {
      "cell_type": "markdown",
      "metadata": {},
      "source": [
        "## Plot the result of the DataArray\n\n"
      ]
    },
    {
      "cell_type": "code",
      "execution_count": null,
      "metadata": {
        "collapsed": false
      },
      "outputs": [],
      "source": [
        "# set to NaN everywhere it's not significant\nis_signi = pv.data < .05\npv.data[~is_signi] = np.nan\npv.data[is_signi] = 1.02 * mi.data.max()\n\n# plot each pair separately\nplt.figure(figsize=(9, 7))\nfor n_r, r in enumerate(mi['roi'].data):\n    # select the mi and p-values for the selected pair of roi\n    mi_r, pv_r = mi.sel(roi=r), pv.sel(roi=r)\n    plt.plot(times, mi_r, label=r, color=f\"C{n_r}\")\n    if not np.isnan(pv_r.data).all():\n        plt.plot(times, pv_r, color=f\"C{n_r}\", lw=4)\n        x_txt = times[~np.isnan(pv_r)].mean()\n        y_txt = 1.03 * mi.data.max()\n        plt.text(x_txt, y_txt, r, color=f\"C{n_r}\", ha='center')\nplt.legend()\nplt.xlabel('Times')\nplt.ylabel('Mi (bits)')\nplt.title('Pairwise connectivity')\nplt.show()"
      ]
    }
  ],
  "metadata": {
    "kernelspec": {
      "display_name": "Python 3",
      "language": "python",
      "name": "python3"
    },
    "language_info": {
      "codemirror_mode": {
        "name": "ipython",
        "version": 3
      },
      "file_extension": ".py",
      "mimetype": "text/x-python",
      "name": "python",
      "nbconvert_exporter": "python",
      "pygments_lexer": "ipython3",
      "version": "3.8.18"
    }
  },
  "nbformat": 4,
  "nbformat_minor": 0
}