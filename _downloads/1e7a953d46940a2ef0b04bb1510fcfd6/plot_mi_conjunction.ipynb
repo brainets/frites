{
  "cells": [
    {
      "cell_type": "markdown",
      "metadata": {},
      "source": [
        "\n# Compute a conjunction analysis on mutual-information\n\nIn this example, we show how to perform a conjunction analysis which consist in\ngetting the number of subjects that present significant effect.\n"
      ]
    },
    {
      "cell_type": "code",
      "execution_count": null,
      "metadata": {
        "collapsed": false
      },
      "outputs": [],
      "source": [
        "import numpy as np\n\nfrom frites.simulations import sim_single_suj_ephy\nfrom frites.dataset import DatasetEphy\nfrom frites.workflow import WfMi\nfrom frites import set_mpl_style\n\nimport matplotlib.pyplot as plt\nset_mpl_style()"
      ]
    },
    {
      "cell_type": "markdown",
      "metadata": {},
      "source": [
        "## Define where to put an effect for each subject\n\nWe start by organising where to set an affect for each subject. To this end,\nwe define a dictionary where each key correspond to a subject. Then, for each\nsubject we add the number of roi (`n_roi`), a color (`color`) and finally\nwhere to introduce effects ((`roi_number`, (`effect_start`, `effect_end`)))\n\n"
      ]
    },
    {
      "cell_type": "code",
      "execution_count": null,
      "metadata": {
        "collapsed": false
      },
      "outputs": [],
      "source": [
        "n_epochs = 200\nn_times = 100\nephy = {\n    'subject_0': {\n        'n_roi': 4,\n        'color': 'red',\n        'clusters': [(0, (10, 70)), (1, (30, 70)), (3, (50, 80))]\n    },\n    'subject_1': {\n        'n_roi': 3,\n        'color': 'green',\n        'clusters': [(0, (50, 90)), (1, (30, 70)), (2, (20, 50))]\n    },\n    'subject_2': {\n        'n_roi': 4,\n        'color': 'blue',\n        'clusters': [(0, (50, 90)), (2, (20, 50)), (3, (70, 90))]\n    }\n}\nn_subjects = len(ephy)"
      ]
    },
    {
      "cell_type": "markdown",
      "metadata": {},
      "source": [
        "## Generate the electrophysiological data\n\nNow we have all the properties where effect have to be present, we generate\nthe electrophysiological data using the function\n:func:`frites.simulations.sim_single_suj_ephy`.\n\n"
      ]
    },
    {
      "cell_type": "code",
      "execution_count": null,
      "metadata": {
        "collapsed": false
      },
      "outputs": [],
      "source": [
        "# generate some random data\nx, roi = [], []\nfor s_nb, s_name in enumerate(ephy.keys()):\n    n_roi = ephy[s_name]['n_roi']\n    _x, _roi, times = sim_single_suj_ephy(\n        modality=\"meeg\", sf=512., n_times=n_times, n_roi=n_roi,\n        n_sites_per_roi=1, n_epochs=n_epochs, random_state=s_nb)\n    x += [_x]\n    roi += [np.array([f\"roi_{k}\" for k in range(n_roi)])]\n\n# introduce an effect\ny = []\nfor s_nb, s_name in enumerate(ephy.keys()):\n    _y = np.random.normal(size=(n_epochs, 1))\n    clusters = ephy[s_name]['clusters']\n\n    for roi_nb, t_idx in clusters:\n        x[s_nb][:, roi_nb, t_idx[0]:t_idx[1]] += _y\n\n    y += [_y.squeeze()]\n\n# Define the electrophysiological dataset\ndt = DatasetEphy(x, y=y, roi=roi, times=times)"
      ]
    },
    {
      "cell_type": "markdown",
      "metadata": {},
      "source": [
        "## Compute the mutual information\n\nOnce we have the dataset instance, we can then define an instance of workflow\n:class:`frites.workflow.WfMi`. This instance is used to compute the mutual\ninformation\n\n"
      ]
    },
    {
      "cell_type": "code",
      "execution_count": null,
      "metadata": {
        "collapsed": false
      },
      "outputs": [],
      "source": [
        "# mutual information type ('cc' = continuous / continuous)\nmi_type = 'cc'\ninference = 'rfx'  # don't use 'ffx' for assessing conjunction analysis !\n\n# define the workflow\nwf = WfMi(mi_type)\n# compute the mutual information\nmi, pv = wf.fit(dt, mcp='cluster', n_perm=200, n_jobs=1, random_state=0)\nn_roi = len(mi.roi.data)\n\n# plot where there's significant values of mi\nfig = plt.figure(figsize=(16, 4))\nfor n_r, r in enumerate(mi.roi.data):\n    # select the mi and p-values a specific roi\n    mi_r, pv_r = mi.sel(roi=r), pv.sel(roi=r)\n    # make a copy of the mi and set to nan everywhere it's not significant\n    mi_sr = mi_r.copy()\n    mi_sr.data[pv_r >= .05] = np.nan\n    # superimpose mi and significant mi\n    plt.subplot(1, n_roi, n_r + 1)\n    plt.plot(times, mi_r, color='C3')\n    plt.plot(times, mi_sr, lw=4, color='C0')\n    plt.xlabel('Times'), plt.ylabel('MI (bits)')\n    plt.title(f\"ROI={r}\", fontweight='bold')\nplt.tight_layout()\nplt.show()"
      ]
    },
    {
      "cell_type": "markdown",
      "metadata": {},
      "source": [
        "## Perform the conjunction analysis\n\nNow we have the values of MI we can compute the conjunction analysis. The\nfollowing method returns two DataArray :\n\n- conj_ss : DataArray of shape (n_subjects, n_times, n_roi) that contains the\n            significant MI of each subject\n- conj : DataArray of shape (n_times, n_roi) that contains the number of\n         subjects that have a significant effect at each time point and for\n         each roi\n\n"
      ]
    },
    {
      "cell_type": "code",
      "execution_count": null,
      "metadata": {
        "collapsed": false
      },
      "outputs": [],
      "source": [
        "# perform the conjunction analysis\nconj_ss, conj = wf.conjunction_analysis()"
      ]
    },
    {
      "cell_type": "markdown",
      "metadata": {},
      "source": [
        "## Plot where there's significant effect for each subject\n\n\n"
      ]
    },
    {
      "cell_type": "code",
      "execution_count": null,
      "metadata": {
        "collapsed": false
      },
      "outputs": [],
      "source": [
        "# printing the results\nprint(conj_ss)\n\nfig = plt.figure(figsize=(12, 9))\nq = 0\nfor n_s in range(n_subjects):\n    color = ephy[f'subject_{n_s}']['color']\n    for n_r, roi in enumerate(conj.roi.data):\n        q += 1\n        ss_data = conj_ss.sel(roi=roi, subject=n_s).T\n        if np.isnan(ss_data).all():\n            continue\n        plt.subplot(n_subjects, n_roi, q)\n        plt.plot(times, ss_data, color=color)\n        plt.ylim(-0.05, 1.05)\n        plt.title(f\"Subject={n_s}; ROI={n_r}\", fontweight='bold')\n        plt.xlabel('Times'), plt.ylabel('Significant cluster')\nplt.tight_layout()\nplt.show()"
      ]
    },
    {
      "cell_type": "markdown",
      "metadata": {},
      "source": [
        "## Plot the number of subjects that have an effect\n\n\n"
      ]
    },
    {
      "cell_type": "code",
      "execution_count": null,
      "metadata": {
        "collapsed": false
      },
      "outputs": [],
      "source": [
        "# printing the results\nprint(conj)\n\n# sphinx_gallery_thumbnail_number = 2\nfig = plt.figure(figsize=(18, 4))\nfor n_r, roi in enumerate(conj.roi.data):\n    plt.subplot(1, n_roi, n_r + 1)\n    plt.plot(times, conj.sel(roi=roi), lw=2)\n    plt.title(f\"ROI={roi}\", fontweight='bold')\n    plt.xlabel('Times'), plt.ylabel('# subjects')\n    plt.ylim(-0.05, n_subjects + 0.05)\nplt.tight_layout()\nplt.show()"
      ]
    }
  ],
  "metadata": {
    "kernelspec": {
      "display_name": "Python 3",
      "language": "python",
      "name": "python3"
    },
    "language_info": {
      "codemirror_mode": {
        "name": "ipython",
        "version": 3
      },
      "file_extension": ".py",
      "mimetype": "text/x-python",
      "name": "python",
      "nbconvert_exporter": "python",
      "pygments_lexer": "ipython3",
      "version": "3.8.18"
    }
  },
  "nbformat": 4,
  "nbformat_minor": 0
}