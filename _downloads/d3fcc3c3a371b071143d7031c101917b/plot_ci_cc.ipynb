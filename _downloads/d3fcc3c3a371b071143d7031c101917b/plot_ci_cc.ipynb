{
  "cells": [
    {
      "cell_type": "markdown",
      "metadata": {},
      "source": [
        "\n# Estimate the empirical confidence interval\n\nThis example illustrates how to estimate the confidence interval\n"
      ]
    },
    {
      "cell_type": "code",
      "execution_count": null,
      "metadata": {
        "collapsed": false
      },
      "outputs": [],
      "source": [
        "import numpy as np\n\nfrom frites.simulations import sim_local_cc_ms\nfrom frites.dataset import DatasetEphy\nfrom frites.workflow import WfMi\nfrom frites import set_mpl_style\n\nimport matplotlib.pyplot as plt\nset_mpl_style()"
      ]
    },
    {
      "cell_type": "markdown",
      "metadata": {},
      "source": [
        "## Plotting functions\n\nFirst, we define the function that is then going to be used for plotting the\nresults\n\n"
      ]
    },
    {
      "cell_type": "code",
      "execution_count": null,
      "metadata": {
        "collapsed": false
      },
      "outputs": [],
      "source": [
        "def plot(mi, pv, ci, color='C0', p=0.05, title='', units='MI (bits)'):\n    # figure definition\n    n_cis, n_rois = len(ci['ci']), len(mi['roi'])\n    width, height = int(np.round(4 * n_rois)), int(np.round(4 * n_cis))\n    fig, axs = plt.subplots(\n        nrows=n_cis, ncols=n_rois, sharex=True, sharey=True,\n        figsize=(width, height))\n    fig.suptitle(title, fontweight='bold')\n\n    # select significant results\n    mi_s = mi.copy()\n    mi_s.data[pv.data >= p] = np.nan\n\n    # plot the results\n    for n_r, r in enumerate(mi['roi'].data):\n        for n_c, c in enumerate(ci['ci'].data):\n            plt.sca(axs[n_c, n_r])\n            plt.plot(mi['times'].data, mi.sel(roi=r).data, color='C3',\n                     linestyle='--')\n            plt.plot(mi['times'].data, mi_s.sel(roi=r).data, color=color, lw=3)\n            plt.fill_between(\n                mi['times'].data, ci.sel(ci=c, roi=r, bound='high'),\n                ci.sel(ci=c, roi=r, bound='low'), alpha=.5, color=color)\n            plt.title(f\"ROI={r}; CI={c}%\")\n            plt.ylabel(units)"
      ]
    },
    {
      "cell_type": "markdown",
      "metadata": {},
      "source": [
        "## Data simulation\n\nLet's simulate some data with 10 subjects, 100 epochs per subject and 2 brain\nregions. As a result, we get a variable x representing the simulated neural\ndata coming from the 10 subjects and y, the task-related variable.\n\n"
      ]
    },
    {
      "cell_type": "code",
      "execution_count": null,
      "metadata": {
        "collapsed": false
      },
      "outputs": [],
      "source": [
        "n_subjects, n_epochs, n_roi = 10, 100, 2\nx, y, roi, times = sim_local_cc_ms(n_subjects, n_epochs=n_epochs, n_roi=n_roi,\n                                   random_state=0)\ndt = DatasetEphy(x.copy(), y=y, roi=roi, times=times)"
      ]
    },
    {
      "cell_type": "markdown",
      "metadata": {},
      "source": [
        "## Empirical confidence interval with FFX models\n\nThen, we estimate the confidence interval when using a fixed-effect model\n\n"
      ]
    },
    {
      "cell_type": "code",
      "execution_count": null,
      "metadata": {
        "collapsed": false
      },
      "outputs": [],
      "source": [
        "# computes mi\nwf = WfMi(mi_type='cc', inference='ffx')\nmi, pv = wf.fit(dt, n_perm=200, n_jobs=1, random_state=0)\n\n# computes confidence interval\nci = wf.confidence_interval(dt, n_boots=200, ci=[95, 99.9], n_jobs=1,\n                            random_state=0)\nprint(ci)\n\n# plot the results\n# sphinx_gallery_thumbnail_number = 1\nplot(mi, pv, ci, title='CI - FFX model')\nplt.show()"
      ]
    },
    {
      "cell_type": "markdown",
      "metadata": {},
      "source": [
        "## Empirical confidence interval with RFX models\n\nWhen using the random-effect model, it's either possible to estimate the\nconfidence interval on the returned mutual-information or on t-values. To\ndo the switch, you can use the parameter `rfx_es` for choosing between 'mi'\nor 'tvalues'\n\n"
      ]
    },
    {
      "cell_type": "code",
      "execution_count": null,
      "metadata": {
        "collapsed": false
      },
      "outputs": [],
      "source": [
        "# confidence interval on mi\nwf = WfMi(mi_type='cc', inference='rfx')\nmi, pv = wf.fit(dt, n_perm=200, n_jobs=1, random_state=0)\nci = wf.confidence_interval(dt, n_boots=200, ci=[95, 99.9], n_jobs=1,\n                            random_state=0)\nplot(mi, pv, ci, title='CI - RFX model / MI')\nplt.show()"
      ]
    },
    {
      "cell_type": "markdown",
      "metadata": {},
      "source": [
        "confidence interval on t-values\n\n"
      ]
    },
    {
      "cell_type": "code",
      "execution_count": null,
      "metadata": {
        "collapsed": false
      },
      "outputs": [],
      "source": [
        "wf = WfMi(mi_type='cc', inference='rfx')\n_, pv = wf.fit(dt, n_perm=200, n_jobs=1, random_state=0)\ntv = wf.tvalues\nci = wf.confidence_interval(dt, n_boots=200, ci=[95, 99.9], n_jobs=1,\n                            random_state=0, rfx_es='tvalues')\nplot(tv, pv, ci, title='CI - RFX model / T-values', units='T-values')\nplt.show()"
      ]
    }
  ],
  "metadata": {
    "kernelspec": {
      "display_name": "Python 3",
      "language": "python",
      "name": "python3"
    },
    "language_info": {
      "codemirror_mode": {
        "name": "ipython",
        "version": 3
      },
      "file_extension": ".py",
      "mimetype": "text/x-python",
      "name": "python",
      "nbconvert_exporter": "python",
      "pygments_lexer": "ipython3",
      "version": "3.8.18"
    }
  },
  "nbformat": 4,
  "nbformat_minor": 0
}