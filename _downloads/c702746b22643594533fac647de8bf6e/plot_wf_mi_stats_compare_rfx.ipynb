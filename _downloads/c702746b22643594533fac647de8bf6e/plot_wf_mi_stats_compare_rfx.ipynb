{
  "cells": [
    {
      "cell_type": "markdown",
      "metadata": {},
      "source": [
        "\n# Compare between-subjects statistics when computing mutual information\n\nThis example illustrates how to define and run a workflow for computing\nmutual information and evaluate stastitics. Inference are made within-subjects\n(random effect = rfx).\n"
      ]
    },
    {
      "cell_type": "code",
      "execution_count": null,
      "metadata": {
        "collapsed": false
      },
      "outputs": [],
      "source": [
        "import numpy as np\n\nfrom frites.simulations import sim_multi_suj_ephy, sim_mi_cc\nfrom frites.dataset import DatasetEphy\nfrom frites.workflow import WfMi\nfrom frites import set_mpl_style\n\nimport matplotlib.pyplot as plt\nset_mpl_style()"
      ]
    },
    {
      "cell_type": "markdown",
      "metadata": {},
      "source": [
        "## Simulate electrophysiological data\n\nLet's start by simulating MEG / EEG electrophysiological data coming from\nmultiple subjects using the function\n:func:`frites.simulations.sim_multi_suj_ephy`. As a result, the `data` output\nis a list of length `n_subjects` of arrays, each one with a shape of\nn_epochs, n_sites, n_times\n\n"
      ]
    },
    {
      "cell_type": "code",
      "execution_count": null,
      "metadata": {
        "collapsed": false
      },
      "outputs": [],
      "source": [
        "modality = 'meeg'\nn_subjects = 10\nn_epochs = 400\nn_times = 100\ndata, roi, time = sim_multi_suj_ephy(n_subjects=n_subjects, n_epochs=n_epochs,\n                                     n_times=n_times, modality=modality,\n                                     random_state=0)"
      ]
    },
    {
      "cell_type": "markdown",
      "metadata": {},
      "source": [
        "## Simulate mutual information\n\nOnce the data have been created, we simulate an increase of mutual\ninformation by creating a continuous variable `y` using the function\n:func:`frites.simulations.sim_mi_cc`. This allows to simulate model-based\nanalysis by computing $I(data; y)$ where `data` and `y` are two continuous\nvariables\n\n"
      ]
    },
    {
      "cell_type": "code",
      "execution_count": null,
      "metadata": {
        "collapsed": false
      },
      "outputs": [],
      "source": [
        "y, _ = sim_mi_cc(data, snr=.1)"
      ]
    },
    {
      "cell_type": "markdown",
      "metadata": {},
      "source": [
        "## Create an electrophysiological dataset\n\nNow, we use the :class:`frites.dataset.DatasetEphy` in order to create a\ncompatible electrophysiological dataset\n\n"
      ]
    },
    {
      "cell_type": "code",
      "execution_count": null,
      "metadata": {
        "collapsed": false
      },
      "outputs": [],
      "source": [
        "dt = DatasetEphy(data, y=y, roi=roi, times=time, verbose=False)"
      ]
    },
    {
      "cell_type": "markdown",
      "metadata": {},
      "source": [
        "## Define the workflow\n\nWe now define the workflow for computing mi and evaluate statistics using the\nclass :class:`frites.workflow.WfMi`. Here, the type of mutual\ninformation to perform is 'cc' between it's computed between two continuous\nvariables. And we also specify the inference type 'ffx' for fixed-effect\n\n"
      ]
    },
    {
      "cell_type": "code",
      "execution_count": null,
      "metadata": {
        "collapsed": false
      },
      "outputs": [],
      "source": [
        "mi_type = 'cc'\ninference = 'rfx'\nwf = WfMi(mi_type, inference, verbose=False)"
      ]
    },
    {
      "cell_type": "markdown",
      "metadata": {},
      "source": [
        "## Compute the mutual information and statistics\n\n"
      ]
    },
    {
      "cell_type": "code",
      "execution_count": null,
      "metadata": {
        "collapsed": false
      },
      "outputs": [],
      "source": [
        "# list of corrections for multiple comparison\nmcps = ['cluster', 'maxstat', 'fdr', 'bonferroni']\nkw = dict(n_jobs=1, n_perm=200)\n\"\"\"\nThe `cluster_th` input parameter specifies how the threshold is defined.\nUse either :\n* a float for a manual threshold\n* None and it will be infered using the distribution of permutations\n* 'tfce' for a TFCE threshold\n\"\"\"\ncluster_th = None  # {float, None, 'tfce'}\n\nplt.figure(figsize=(10, 8))\nfor mcp in mcps:\n    print(f'-> RFX / MCP={mcp}')\n    mi, pvalues = wf.fit(dt, mcp=mcp, cluster_th=cluster_th, **kw)\n    # remove p-values that exceed 0.05\n    pvalues.data[pvalues >= .05] = 1.\n\n    plt.subplot(212)\n    plt.plot(time, pvalues.squeeze(), label=f'ffx-{mcp}')\n    plt.xlabel('Time (s)'), plt.ylabel(\"P-values\")\n    plt.title(\"P-values (rfx)\")\n    plt.autoscale(tight=True, axis='x')\nplt.legend()\n\nplt.subplot(211)\nplt.plot(time, mi.squeeze())\nplt.ylabel(\"Bits\")\nplt.title(\"Mutual information I(C; C)\")\nplt.autoscale(tight=True)\n\nplt.show()"
      ]
    }
  ],
  "metadata": {
    "kernelspec": {
      "display_name": "Python 3",
      "language": "python",
      "name": "python3"
    },
    "language_info": {
      "codemirror_mode": {
        "name": "ipython",
        "version": 3
      },
      "file_extension": ".py",
      "mimetype": "text/x-python",
      "name": "python",
      "nbconvert_exporter": "python",
      "pygments_lexer": "ipython3",
      "version": "3.8.18"
    }
  },
  "nbformat": 4,
  "nbformat_minor": 0
}