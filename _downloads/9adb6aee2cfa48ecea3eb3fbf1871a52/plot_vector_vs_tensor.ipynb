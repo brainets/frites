{
  "cells": [
    {
      "cell_type": "markdown",
      "metadata": {},
      "source": [
        "\n# Comparison between tensor and vector based computations\n\nIn this example, we compared the elapsed computing time when using a vector\nbased implementation (i.e. operations between vectors inside nested for loops)\nwith a tensor-based implementation (i.e. operations on the full array at once).\n"
      ]
    },
    {
      "cell_type": "code",
      "execution_count": null,
      "metadata": {
        "collapsed": false
      },
      "outputs": [],
      "source": [
        "import numpy as np\nimport pandas as pd\n\nfrom frites.estimator import GCMIEstimator, CorrEstimator\nfrom frites import set_mpl_style\n\nfrom time import time\n\nimport matplotlib.pyplot as plt\nimport seaborn as sns\nset_mpl_style()"
      ]
    },
    {
      "cell_type": "markdown",
      "metadata": {},
      "source": [
        "## Define a dataset\n\nIn this first section, we define two multi-dimensional variables x and y\n\n"
      ]
    },
    {
      "cell_type": "code",
      "execution_count": null,
      "metadata": {
        "collapsed": false
      },
      "outputs": [],
      "source": [
        "# shape of the two variables\nshape = (1000, 1, 400)\n\n# define the x and y variables\nx = np.random.rand(*shape)\ny = np.random.rand(*shape)"
      ]
    },
    {
      "cell_type": "markdown",
      "metadata": {},
      "source": [
        "## Define vector- and tensor-based estimators\n\nNext, we define three estimators of information : Gaussian-Copula Mutual\ninformation, Pearson and Spearman correlations with both vector and\ntensor-based computations\n\n"
      ]
    },
    {
      "cell_type": "code",
      "execution_count": null,
      "metadata": {
        "collapsed": false
      },
      "outputs": [],
      "source": [
        "# vector-based estimators\nvec_est = {\n    'GCMI': GCMIEstimator(mi_type='cc', tensor=False),\n    'Pearson': CorrEstimator(implementation='vector'),\n    'Spearman': CorrEstimator(method='spearman', implementation='vector'),\n}\n\n# tensor-based estimators\nten_est = {\n    'GCMI': GCMIEstimator(mi_type='cc', tensor=True),\n    'Pearson': CorrEstimator(implementation='tensor'),\n    'Spearman': CorrEstimator(method='spearman', implementation='tensor'),\n}"
      ]
    },
    {
      "cell_type": "markdown",
      "metadata": {},
      "source": [
        "## Computing time estimation\n\nIn this first section, we define two multi-dimensional variables x and y\n\n"
      ]
    },
    {
      "cell_type": "code",
      "execution_count": null,
      "metadata": {
        "collapsed": false
      },
      "outputs": [],
      "source": [
        "# number of loops for repeating computations\nn_loops = 30\n\n# function for estimating the computing time\n\ndef computing_time(estimator):\n    \"\"\"Estimate computing time.\"\"\"\n    tot_time = []\n    for k in range(n_loops):\n        start = time()\n        estimator.estimate(x, y)\n        end = time()\n        tot_time.append(end - start)\n    return tot_time\n\n# computing time for all of the methods\nmeth_name, meth_imp, comp_time, comp_name, comp_ratio = [], [], [], [], []\nfor name in vec_est.keys():\n    # vector computations\n    meth_name += [name] * n_loops\n    meth_imp += ['vector'] * n_loops\n    _time_vec = computing_time(vec_est[name])\n    comp_time += _time_vec\n\n    # tensor computations\n    meth_name += [name] * n_loops\n    meth_imp += ['tensor'] * n_loops\n    _time_ten = computing_time(ten_est[name])\n    comp_time += _time_ten\n\n    # computing time ratio\n    comp_name += [name] * n_loops\n    comp_ratio += (np.array(_time_vec) / np.array(_time_ten)).tolist()\n\n# merge the results in a dataframe\nresults = pd.DataFrame({\n   \"Estimator\": meth_name,\n   \"Implementation\": meth_imp,\n   \"Computing time\": comp_time,\n})\nresults_comp = pd.DataFrame({\n   \"Estimator\": comp_name,\n   \"Ratio (Vector / Tensor)\": comp_ratio\n})\n\n# plot the results\nplt.figure(figsize=(15, 6))\nplt.subplot(121)\nsns.stripplot(\n    data=results, x='Estimator', y='Computing time', hue='Implementation'\n)\nplt.title(\"Tensor vs. vector implementation of three estimators\")\n\nplt.subplot(122)\nsns.stripplot(\n    data=results_comp, x='Estimator', y='Ratio (Vector / Tensor)',\n)\nplt.title(\"Computing time ratio (vector / tensor)\")\nplt.show()"
      ]
    },
    {
      "cell_type": "markdown",
      "metadata": {},
      "source": [
        "<div class=\"alert alert-info\"><h4>Note</h4><p>As shown in the results, the tensor-based implementations are at least\n    twice as fast compared to the vector-based computations</p></div>\n\n"
      ]
    }
  ],
  "metadata": {
    "kernelspec": {
      "display_name": "Python 3",
      "language": "python",
      "name": "python3"
    },
    "language_info": {
      "codemirror_mode": {
        "name": "ipython",
        "version": 3
      },
      "file_extension": ".py",
      "mimetype": "text/x-python",
      "name": "python",
      "nbconvert_exporter": "python",
      "pygments_lexer": "ipython3",
      "version": "3.8.18"
    }
  },
  "nbformat": 4,
  "nbformat_minor": 0
}