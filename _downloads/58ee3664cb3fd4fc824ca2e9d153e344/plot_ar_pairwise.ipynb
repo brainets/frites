{
  "cells": [
    {
      "cell_type": "markdown",
      "metadata": {},
      "source": [
        "\n# AR : pairwise illustration\n\nThis example illustrates a simple autoregressive model simulating a\nstimulus-specific information transfer from a source X to a target Y.\n"
      ]
    },
    {
      "cell_type": "code",
      "execution_count": null,
      "metadata": {
        "collapsed": false
      },
      "outputs": [],
      "source": [
        "from frites import set_mpl_style\nfrom frites.simulations import StimSpecAR\n\nimport matplotlib.pyplot as plt\nset_mpl_style()"
      ]
    },
    {
      "cell_type": "markdown",
      "metadata": {},
      "source": [
        "## Simulate 40hz oscillations\n\nHere, we use the class :class:`frites.simulations.StimSpecAR` to simulate an\nstimulus-specific autoregressive model. For the pairwise models, you can\nchoose :\n\n    * 'hga' : high-gamma burst\n    * 'osc_40' / 'osc_20' : respectivelly 20hz and 40hz oscillations\n    * 'ding_2' : pairwise Ding's model :cite:`ding2006granger`\n\n"
      ]
    },
    {
      "cell_type": "code",
      "execution_count": null,
      "metadata": {
        "collapsed": false
      },
      "outputs": [],
      "source": [
        "ar_type = 'osc_40'  # 40hz oscillations\nn_stim = 3          # number of stimulus\nn_epochs = 50       # number of epochs per stimulus\n\nss = StimSpecAR()\nar = ss.fit(ar_type=ar_type, n_epochs=n_epochs, n_stim=n_stim)"
      ]
    },
    {
      "cell_type": "markdown",
      "metadata": {},
      "source": [
        "plot the network\n\n"
      ]
    },
    {
      "cell_type": "code",
      "execution_count": null,
      "metadata": {
        "collapsed": false
      },
      "outputs": [],
      "source": [
        "plt.figure(figsize=(5, 4))\nss.plot_model()\nplt.show()"
      ]
    },
    {
      "cell_type": "markdown",
      "metadata": {},
      "source": [
        "plot the data\n\n"
      ]
    },
    {
      "cell_type": "code",
      "execution_count": null,
      "metadata": {
        "collapsed": false
      },
      "outputs": [],
      "source": [
        "plt.figure(figsize=(7, 8))\nss.plot(cmap='bwr')\nplt.tight_layout()\nplt.show()"
      ]
    },
    {
      "cell_type": "markdown",
      "metadata": {},
      "source": [
        "plot the power spectrum density (PSD)\n\n"
      ]
    },
    {
      "cell_type": "code",
      "execution_count": null,
      "metadata": {
        "collapsed": false
      },
      "outputs": [],
      "source": [
        "plt.figure(figsize=(7, 8))\nss.plot(cmap='Reds', psd=True)\nplt.tight_layout()\nplt.show()"
      ]
    }
  ],
  "metadata": {
    "kernelspec": {
      "display_name": "Python 3",
      "language": "python",
      "name": "python3"
    },
    "language_info": {
      "codemirror_mode": {
        "name": "ipython",
        "version": 3
      },
      "file_extension": ".py",
      "mimetype": "text/x-python",
      "name": "python",
      "nbconvert_exporter": "python",
      "pygments_lexer": "ipython3",
      "version": "3.8.18"
    }
  },
  "nbformat": 4,
  "nbformat_minor": 0
}