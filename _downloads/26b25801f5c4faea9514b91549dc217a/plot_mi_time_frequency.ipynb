{
  "cells": [
    {
      "cell_type": "markdown",
      "metadata": {},
      "source": [
        "\n# Compute MI across time and frequencies\n\nThis example illustrates how to compute the mutual information with\ntime-frequency inputs (e.g time-frequency maps). Then, it uses cluster-based\nto correct for multiple comparisons.\n"
      ]
    },
    {
      "cell_type": "code",
      "execution_count": null,
      "metadata": {
        "collapsed": false
      },
      "outputs": [],
      "source": [
        "import numpy as np\nimport xarray as xr\n\nfrom frites.dataset import DatasetEphy\nfrom frites.workflow import WfMi\nfrom frites import set_mpl_style\n\nimport matplotlib.pyplot as plt\nset_mpl_style()\n\nnp.random.seed(0)"
      ]
    },
    {
      "cell_type": "markdown",
      "metadata": {},
      "source": [
        "## Simulate data\n First, we simulate time-frequency data coming from multiple subjects with a\n variable number of trials. For a single subject, the data is based on normals\n (with an addition of noise). The regressor variable is going to be continuous\n and is also going to be a normal.\n\n"
      ]
    },
    {
      "cell_type": "code",
      "execution_count": null,
      "metadata": {
        "collapsed": false
      },
      "outputs": [],
      "source": [
        "# dataset parameters\nn_subjects = 5\nn_freqs = 20\nn_times = 50\nn_trials = np.random.randint(50, 100, n_subjects)"
      ]
    },
    {
      "cell_type": "markdown",
      "metadata": {},
      "source": [
        "function to simulate a single subject\n\n"
      ]
    },
    {
      "cell_type": "code",
      "execution_count": null,
      "metadata": {
        "collapsed": false
      },
      "outputs": [],
      "source": [
        "def sim_single_subject(n_freqs, n_times, n_trials, noise_level=10.):\n    # generate the mask modulating the amplitude of the gaussian\n    t_range, f_range = np.linspace(-1, 1, n_times), np.linspace(-1, 1, n_freqs)\n    x, y = np.meshgrid(t_range, f_range)\n    d = np.sqrt(x * x + y * y)\n    sigma, mu = 2.0, 0.0\n    mask_2d = np.exp(-((d - mu) ** .5 / (2. * sigma ** .5)))\n    # [0, 1] normalize the mask\n    mask_2d -= mask_2d.min()\n    mask_2d /= mask_2d.max()\n    # turn the mask 3d\n    mask_3d = np.tile(mask_2d[np.newaxis, ...], (n_trials, 1, 1))\n    # generate the base data\n    noise = np.random.uniform(0, noise_level, (n_trials, 1, 1))\n    gauss = np.random.normal(0, 1, (n_trials))\n    y = gauss.copy()\n    gauss = np.tile(gauss.reshape(-1, 1, 1), (1, n_freqs, n_times))\n    # data is finally defined as util signal + noise\n    data = noise + gauss * mask_3d\n\n    return data[:, np.newaxis, ...], y"
      ]
    },
    {
      "cell_type": "markdown",
      "metadata": {},
      "source": [
        "simulate multiple subjects and build the dataset container\n\n"
      ]
    },
    {
      "cell_type": "code",
      "execution_count": null,
      "metadata": {
        "collapsed": false
      },
      "outputs": [],
      "source": [
        "x, y, roi = [], [], []\ntimes = np.linspace(-1, 1, n_times)\nfreqs = np.linspace(60, 160, n_freqs)\nfor s, tr in zip(range(n_subjects), n_trials):\n    # simulate the data coming from a single subject\n    x_single_suj, y_single_suj = sim_single_subject(n_freqs, n_times, tr)\n    # xarray conversion\n    _x = xr.DataArray(x_single_suj, dims=('trials', 'roi', 'freqs', 'times'),\n                      coords=(y_single_suj, ['roi_0'], freqs, times))\n    x += [_x]\n\n# define an instance of DatasetEphy\nds = DatasetEphy(x, y='trials', roi='roi', times='times')"
      ]
    },
    {
      "cell_type": "markdown",
      "metadata": {},
      "source": [
        "## Compute the mutual information\n Then we compute the quantity of information shared by the time-frequency data\n and the continuous regressor\n\n"
      ]
    },
    {
      "cell_type": "code",
      "execution_count": null,
      "metadata": {
        "collapsed": false
      },
      "outputs": [],
      "source": [
        "# compute the mutual information\nwf = WfMi(inference='ffx', mi_type='cc')\nmi, pv = wf.fit(ds, n_perm=200, mcp='cluster', random_state=0, n_jobs=1)"
      ]
    },
    {
      "cell_type": "markdown",
      "metadata": {},
      "source": [
        "plot the mutual information and p-values\n\n"
      ]
    },
    {
      "cell_type": "code",
      "execution_count": null,
      "metadata": {
        "collapsed": false
      },
      "outputs": [],
      "source": [
        "plt.figure(figsize=(12, 5))\nplt.subplot(1, 2, 1)\nmi.squeeze().plot.pcolormesh(vmin=0, cmap='inferno')\nplt.title('Mutual information')\nplt.subplot(1, 2, 2)\npv.squeeze().plot.pcolormesh(cmap='Blues_r')\nplt.title('Significant p-values (p<0.05, cluster-corrected)')\nplt.tight_layout()\nplt.show()"
      ]
    }
  ],
  "metadata": {
    "kernelspec": {
      "display_name": "Python 3",
      "language": "python",
      "name": "python3"
    },
    "language_info": {
      "codemirror_mode": {
        "name": "ipython",
        "version": 3
      },
      "file_extension": ".py",
      "mimetype": "text/x-python",
      "name": "python",
      "nbconvert_exporter": "python",
      "pygments_lexer": "ipython3",
      "version": "3.8.18"
    }
  },
  "nbformat": 4,
  "nbformat_minor": 0
}