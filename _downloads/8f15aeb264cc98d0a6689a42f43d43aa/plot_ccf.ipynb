{
  "cells": [
    {
      "cell_type": "markdown",
      "metadata": {},
      "source": [
        "\n# Lag estimation between delayed times-series using the cross-correlation\n\nThis example illustrates how to estimate the lags between delayed times-series\nusing the cross-correlation function.\n"
      ]
    },
    {
      "cell_type": "code",
      "execution_count": null,
      "metadata": {
        "collapsed": false
      },
      "outputs": [],
      "source": [
        "import numpy as np\nimport xarray as xr\n\nfrom frites.conn import conn_ccf\nfrom frites import set_mpl_style\n\nimport matplotlib.pyplot as plt\nset_mpl_style()"
      ]
    },
    {
      "cell_type": "markdown",
      "metadata": {},
      "source": [
        "## Data simulation\n\nFirst, let's start by simulating data and time-series with fixed delays\nbetween them.\n\n"
      ]
    },
    {
      "cell_type": "code",
      "execution_count": null,
      "metadata": {
        "collapsed": false
      },
      "outputs": [],
      "source": [
        "# number of trials, brain regions and time points\nn_trials, n_roi, n_times = 20, 3, 1000\n\n# create coordinates\ntrials = np.arange(n_trials)\nroi = [f\"roi_{k}\" for k in range(n_roi)]\ntimes = (np.arange(n_times) - 200) / 64.\n\n# data creation\nrnd = np.random.RandomState(0)\nx = .1 * rnd.rand(n_trials, n_roi, n_times)\n\n\"\"\"\nlag definition\n\nHere, we use a dict where the keys refer to the target brain region and the\nvalues for the lag value between this target and the first brain region\n(considered as a reference here). Positive delays are moving the target from\nthe source while negative lags are moving the target toward the source.\n\"\"\"\nlags = {\n    1: 60,   #  60 samples are separating roi_0 and roi_1\n    2: -60,  # -60 samples are separating roi_0 and roi_2\n}\nbump_len = 200\nbump = np.hanning(bump_len).reshape(1, -1)\nref = 200\nx[:, 0, ref:ref + bump_len] += bump\nfor t, lag in lags.items():\n    x[:, t, ref + lag:ref + lag + bump_len] += bump\n\n# xarray conversion\nx = xr.DataArray(x, dims=('trials', 'roi', 'times'),\n                 coords=(trials, roi, times))\n\n# data plotting\nx.mean('trials').plot(x='times', hue='roi')\nplt.show()"
      ]
    },
    {
      "cell_type": "markdown",
      "metadata": {},
      "source": [
        "## Compute the cross-correlation\n\nThen, we can try to estimate the delays between the time series using the\ncross-correlation function\n\n"
      ]
    },
    {
      "cell_type": "code",
      "execution_count": null,
      "metadata": {
        "collapsed": false
      },
      "outputs": [],
      "source": [
        "# compute delayed dfc\nccf = conn_ccf(x, times='times', roi='roi', n_jobs=1)\n\n# get lag at maximum peak\nccf_m = ccf.mean('trials')\nlags = ccf['times'].data[np.where(ccf_m == ccf_m.max('times'))[1]]"
      ]
    },
    {
      "cell_type": "markdown",
      "metadata": {},
      "source": [
        "## Plot the cross-correlation\n\nIn this final part, we plot the cross-correlation between brain regions\n\n"
      ]
    },
    {
      "cell_type": "code",
      "execution_count": null,
      "metadata": {
        "collapsed": false
      },
      "outputs": [],
      "source": [
        "# plot the cross correlation\n# sphinx_gallery_thumbnail_number = 2\nplt.figure(figsize=(12, 8))\nplt.title('Delays between brain regions')\nccf_m.plot(x='times', hue='roi')\nplt.axvline(0., color='k')\n\n# plot peak informations\nfor n_p in range(len(lags)):\n    plt.axvline(lags[n_p], color=f\"C{n_p}\", linestyle='--', lw=1)\n    t = plt.text(lags[n_p], 1., str(lags[n_p]), color=f\"C{n_p}\", ha='center')\n    t.set_bbox(dict(facecolor='w', edgecolor='w'))\n\n# add text\nneg = (\"Negative times = target\\nneeds to be moved\\nback in time\")\npos = (\"Positive times = target\\nneeds to be moved\\nlater in time\")\nplt.text(-500, .3, neg, ha='center', fontsize=15, fontweight='bold')\nplt.text(500, .3, pos, ha='center', fontsize=15, fontweight='bold')\nplt.tight_layout()\n\nplt.show()"
      ]
    }
  ],
  "metadata": {
    "kernelspec": {
      "display_name": "Python 3",
      "language": "python",
      "name": "python3"
    },
    "language_info": {
      "codemirror_mode": {
        "name": "ipython",
        "version": 3
      },
      "file_extension": ".py",
      "mimetype": "text/x-python",
      "name": "python",
      "nbconvert_exporter": "python",
      "pygments_lexer": "ipython3",
      "version": "3.8.18"
    }
  },
  "nbformat": 4,
  "nbformat_minor": 0
}