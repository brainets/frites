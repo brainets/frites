{
  "cells": [
    {
      "cell_type": "markdown",
      "metadata": {},
      "source": [
        "\n# Define an electrophysiological dataset using MNE-Python structures\n\nThis example illustrates how to define a dataset using MNE-Python Epochs.\n"
      ]
    },
    {
      "cell_type": "code",
      "execution_count": null,
      "metadata": {
        "collapsed": false
      },
      "outputs": [],
      "source": [
        "import numpy as np\n\nfrom mne import EpochsArray, create_info\nfrom frites.dataset import DatasetEphy\nfrom frites import set_mpl_style\n\nimport matplotlib.pyplot as plt\nset_mpl_style()"
      ]
    },
    {
      "cell_type": "markdown",
      "metadata": {},
      "source": [
        "## Create artificial data\n\nWe start by creating some random data for several subjects. To do that, each\nsubject is going have a 3 dimensional array of shape\n(n_epochs, n_channels, n_times). Then, all of the arrays are grouped together\nin a list of length (n_subjects,)\n\n"
      ]
    },
    {
      "cell_type": "code",
      "execution_count": null,
      "metadata": {
        "collapsed": false
      },
      "outputs": [],
      "source": [
        "n_subjects = 5\nn_epochs = 10\nn_channels = 5\nn_times = 100\nsf = 512\n\nx, ch = [], []\nfor k in range(n_subjects):\n    # generate single subject data\n    x_suj = np.random.rand(n_epochs, n_channels, n_times)\n    # generate some random channel names\n    ch_suj = np.array([f\"ch_{r}\" for r in range(n_channels)])\n    # concatenate in a list\n    x.append(x_suj)\n    ch.append(ch_suj)\n# finally lets create a time vector\ntimes = np.arange(n_times) / sf"
      ]
    },
    {
      "cell_type": "markdown",
      "metadata": {},
      "source": [
        "## MNE conversion to Epoch\n\nHere, we convert our illustrative data into EpochsArray. With real data, you\nare probbaly going to have mne.Epochs objects which also going to work just\nthe same\n\n"
      ]
    },
    {
      "cell_type": "code",
      "execution_count": null,
      "metadata": {
        "collapsed": false
      },
      "outputs": [],
      "source": [
        "x_mne = []\nfor k in range(n_subjects):\n    # create some informations\n    info = create_info(ch[k].tolist(), sf)\n    # create the Epoch of this subject\n    epoch = EpochsArray(x[k], info, tmin=times[0], verbose=False)\n    # finally, replace it in the original list\n    x_mne.append(epoch)\nprint(x_mne[0])"
      ]
    },
    {
      "cell_type": "markdown",
      "metadata": {},
      "source": [
        "## Build the dataset\n\nFinally, we pass the data to the :class:`frites.dataset.DatasetEphy` class\nin order to create the dataset\n\n"
      ]
    },
    {
      "cell_type": "code",
      "execution_count": null,
      "metadata": {
        "collapsed": false
      },
      "outputs": [],
      "source": [
        "dt = DatasetEphy(x_mne)\nprint(dt)\n\nprint('Time vector : ', dt.times)\nprint('ROI DataFrame\\n: ', dt.df_rs)"
      ]
    }
  ],
  "metadata": {
    "kernelspec": {
      "display_name": "Python 3",
      "language": "python",
      "name": "python3"
    },
    "language_info": {
      "codemirror_mode": {
        "name": "ipython",
        "version": 3
      },
      "file_extension": ".py",
      "mimetype": "text/x-python",
      "name": "python",
      "nbconvert_exporter": "python",
      "pygments_lexer": "ipython3",
      "version": "3.8.18"
    }
  },
  "nbformat": 4,
  "nbformat_minor": 0
}