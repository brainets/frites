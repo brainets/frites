{
  "cells": [
    {
      "cell_type": "markdown",
      "metadata": {},
      "source": [
        "\n# Define temporal windows\n\nThis example illustrates how to define temporal windows that can then be used\nto compute, for example, the dynamic functional connectivity. In this example,\nwe show how to define either custom windows or sliding windows with different\nsizes.\n"
      ]
    },
    {
      "cell_type": "code",
      "execution_count": null,
      "metadata": {
        "collapsed": false
      },
      "outputs": [],
      "source": [
        "import numpy as np\n\nfrom frites.conn import define_windows, plot_windows\nfrom frites import set_mpl_style\n\nimport matplotlib.pyplot as plt\nfrom matplotlib.collections import PatchCollection\nfrom matplotlib.patches import Rectangle\nset_mpl_style()"
      ]
    },
    {
      "cell_type": "markdown",
      "metadata": {},
      "source": [
        "## Simulate data\n\nLet's start by creating a simple sinusoide with a time vector. Then, to\ndefine windows we are going to use the function\n:func:`frites.conn.define_windows` and also\n:func:`frites.conn.plot_windows` for plotting.\n\n"
      ]
    },
    {
      "cell_type": "code",
      "execution_count": null,
      "metadata": {
        "collapsed": false
      },
      "outputs": [],
      "source": [
        "n_pts = 1000\nperiod = .2  # 200ms period\ntimes = np.linspace(-1, 1.5, n_pts, endpoint=True)\nx = np.sin(2 * np.pi * (1. / period) * times)"
      ]
    },
    {
      "cell_type": "markdown",
      "metadata": {},
      "source": [
        "## Manually define windows\n\nThe first feature we illustrate here, is to define windows manually which\nmeans, based on the time vector, where each window should start and finish.\n\n"
      ]
    },
    {
      "cell_type": "code",
      "execution_count": null,
      "metadata": {
        "collapsed": false
      },
      "outputs": [],
      "source": [
        "plt.figure(figsize=(10, 8))\n\n# by default, if you don't provide any input, the full time window is going to\n# be considered\nwin = define_windows(times)[0]\nplt.subplot(311)\nplot_windows(times, win, x, title='No input = full time window')\n\n# however, you can also specify where each window start and finish. Here, we\n# define a simple unique window between [-.5, .5]\nwin = define_windows(times, windows=[-.5, .5])[0]\nplt.subplot(312)\nplot_windows(times, win, x, title='Unique window [-.5, .5]')\n\n# but you can also specify multiple windows\nwin = define_windows(times, windows=[[-.75, -.25], [.25, .75]])[0]\nplt.subplot(313)\nplot_windows(times, win, x, title='Multiple windows manually defined')\nplt.tight_layout()\nplt.show()"
      ]
    },
    {
      "cell_type": "markdown",
      "metadata": {},
      "source": [
        "## Define sliding windows\n\nYou can also define sliding windows which can be controlled through four\nparameters :\n\n* `slwin_len` = window length\n* `slwin_start` = starting time point\n* `slwin_stop` = stopping time point\n* `slwin_step` = step time between consecutive windows\n\n"
      ]
    },
    {
      "cell_type": "code",
      "execution_count": null,
      "metadata": {
        "collapsed": false
      },
      "outputs": [],
      "source": [
        "# sphinx_gallery_thumbnail_number = 2\nplt.figure(figsize=(10, 10))\n\n# if you only gives the length, consecutive windows are defined from first to\n# last time point\nwin = define_windows(times, slwin_len=.2)[0]\nplt.subplot(411)\nplot_windows(times, win, x, title='200ms consecutive windows')\n\n# but you can also change where the sliding window start\nwin = define_windows(times, slwin_len=.2, slwin_start=-.5)[0]\nplt.subplot(412)\nplot_windows(times, win, x, title='Start sliding windows from -.5s')\n\n# in addition, you can also define where it stop\nwin = define_windows(times, slwin_len=.2, slwin_start=-.5, slwin_stop=.52)[0]\nplt.subplot(413)\nplot_windows(times, win, x,\n             title='Start sliding windows from -.5s and finish at .5s')\n\n# finally, we can control the \"distance\" between each consecutive window. For\n# example, if the length is 200ms and a distance of 150ms, it is equivalent to\n# a 25% overlap\nwin = define_windows(times, slwin_len=.2, slwin_start=-.75, slwin_stop=1,\n                     slwin_step=.15)[0]\nplt.subplot(414)\nplot_windows(times, win, x,\n             title='Sliding windows from [-.75, 1]s with 25% overlap')\n\nplt.tight_layout()\n\nplt.show()"
      ]
    }
  ],
  "metadata": {
    "kernelspec": {
      "display_name": "Python 3",
      "language": "python",
      "name": "python3"
    },
    "language_info": {
      "codemirror_mode": {
        "name": "ipython",
        "version": 3
      },
      "file_extension": ".py",
      "mimetype": "text/x-python",
      "name": "python",
      "nbconvert_exporter": "python",
      "pygments_lexer": "ipython3",
      "version": "3.8.18"
    }
  },
  "nbformat": 4,
  "nbformat_minor": 0
}