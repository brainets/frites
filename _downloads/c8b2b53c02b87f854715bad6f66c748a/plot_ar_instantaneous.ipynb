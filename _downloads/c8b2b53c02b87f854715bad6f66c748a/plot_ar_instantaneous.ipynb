{
  "cells": [
    {
      "cell_type": "markdown",
      "metadata": {},
      "source": [
        "\n# AR : simulate common driving input\n\nThis example illustrates an autoregressive model that simulates a common\ndriving input (i.e X->Y and X->Z) and how it is measured using the covariance\nbased Granger Causality\n"
      ]
    },
    {
      "cell_type": "code",
      "execution_count": null,
      "metadata": {
        "collapsed": false
      },
      "outputs": [],
      "source": [
        "import numpy as np\n\nfrom frites.simulations import StimSpecAR\nfrom frites.conn import conn_covgc\n\nimport matplotlib.pyplot as plt"
      ]
    },
    {
      "cell_type": "markdown",
      "metadata": {},
      "source": [
        "## Simulate 3 nodes 40hz oscillations\n\nHere, we use the class :class:`frites.simulations.StimSpecAR` to simulate an\nstimulus-specific autoregressive model made of three nodes (X, Y and Z). This\nnetwork simulates a transfer X->Y and X->Z. X is then called a common driving\ninput for Y and Z\n\n"
      ]
    },
    {
      "cell_type": "code",
      "execution_count": null,
      "metadata": {
        "collapsed": false
      },
      "outputs": [],
      "source": [
        "ar_type = 'osc_40_3'  # 40hz oscillations\nn_stim = 3          # number of stimulus\nn_epochs = 50       # number of epochs per stimulus\n\nss = StimSpecAR()\nar = ss.fit(ar_type=ar_type, n_epochs=n_epochs, n_stim=n_stim)\nprint(ar)"
      ]
    },
    {
      "cell_type": "markdown",
      "metadata": {},
      "source": [
        "plot the network\n\n"
      ]
    },
    {
      "cell_type": "code",
      "execution_count": null,
      "metadata": {
        "collapsed": false
      },
      "outputs": [],
      "source": [
        "plt.figure(figsize=(5, 4))\nss.plot_model()\nplt.show()"
      ]
    },
    {
      "cell_type": "markdown",
      "metadata": {},
      "source": [
        "plot the data\n\n"
      ]
    },
    {
      "cell_type": "code",
      "execution_count": null,
      "metadata": {
        "collapsed": false
      },
      "outputs": [],
      "source": [
        "plt.figure(figsize=(7, 8))\nss.plot(cmap='bwr')\nplt.tight_layout()\nplt.show()"
      ]
    },
    {
      "cell_type": "markdown",
      "metadata": {},
      "source": [
        "plot the power spectrum density (PSD)\n\n"
      ]
    },
    {
      "cell_type": "code",
      "execution_count": null,
      "metadata": {
        "collapsed": false
      },
      "outputs": [],
      "source": [
        "plt.figure(figsize=(7, 8))\nss.plot(cmap='Reds', psd=True)\nplt.tight_layout()\nplt.show()"
      ]
    },
    {
      "cell_type": "markdown",
      "metadata": {},
      "source": [
        "## Compute the Granger-Causality\n\nWe then compute and plot the Granger Causality. From the plot you can see\nthat there's indeed an information transfer from X->Y and X->Z and, in\naddition, an instantaneous connectivity between Y.Z\n\n"
      ]
    },
    {
      "cell_type": "code",
      "execution_count": null,
      "metadata": {
        "collapsed": false
      },
      "outputs": [],
      "source": [
        "dt = 50\nlag = 5\nstep = 2\nt0 = np.arange(lag, ar.shape[-1] - dt, step)\ngc = conn_covgc(ar, roi='roi', times='times', dt=dt, lag=lag, t0=t0,\n                n_jobs=-1)\n\n# sphinx_gallery_thumbnail_number = 4\nplt.figure(figsize=(12, 10))\nss.plot_covgc(gc)\nplt.tight_layout()\nplt.show()"
      ]
    }
  ],
  "metadata": {
    "kernelspec": {
      "display_name": "Python 3",
      "language": "python",
      "name": "python3"
    },
    "language_info": {
      "codemirror_mode": {
        "name": "ipython",
        "version": 3
      },
      "file_extension": ".py",
      "mimetype": "text/x-python",
      "name": "python",
      "nbconvert_exporter": "python",
      "pygments_lexer": "ipython3",
      "version": "3.8.18"
    }
  },
  "nbformat": 4,
  "nbformat_minor": 0
}