{
  "cells": [
    {
      "cell_type": "markdown",
      "metadata": {},
      "source": [
        "\n# Estimate dynamic functional connectivity\n\nThis example illustrates how to compute the dynamic functional connectivity\n(DFC) using the mutual information (MI). This type of connectivity is computed\nfor each trial either inside a single window or across multiple windows.\n"
      ]
    },
    {
      "cell_type": "code",
      "execution_count": null,
      "metadata": {
        "collapsed": false
      },
      "outputs": [],
      "source": [
        "import numpy as np\nfrom itertools import product\n\nfrom frites.simulations import sim_single_suj_ephy\nfrom frites.conn import conn_dfc, define_windows, plot_windows\n\nfrom frites import set_mpl_style\n\nimport matplotlib.pyplot as plt\nset_mpl_style()"
      ]
    },
    {
      "cell_type": "markdown",
      "metadata": {},
      "source": [
        "## Simulate electrophysiological data\n\nLet's start by simulating MEG / EEG electrophysiological data coming from\na single subject. The output data of this single subject has a shape of\n(n_epochs, n_roi, n_times)\n\n"
      ]
    },
    {
      "cell_type": "code",
      "execution_count": null,
      "metadata": {
        "collapsed": false
      },
      "outputs": [],
      "source": [
        "modality = 'meeg'\nn_roi = 3\nn_epochs = 50\nn_times = 1000\nx, roi, _ = sim_single_suj_ephy(n_epochs=n_epochs, n_times=n_times,\n                                modality=modality, n_roi=n_roi, random_state=0)\ntimes = np.linspace(-1, 1, n_times)"
      ]
    },
    {
      "cell_type": "markdown",
      "metadata": {},
      "source": [
        "## Simulate spatial correlations\n\nBellow, we are simulating some distant correlations by injecting the\nactivity of an ROI to another\n\n"
      ]
    },
    {
      "cell_type": "code",
      "execution_count": null,
      "metadata": {
        "collapsed": false
      },
      "outputs": [],
      "source": [
        "x[:, [1], slice(100, 400)] += x[:, [0], slice(100, 400)]\nx[:, [2], slice(600, 800)] += x[:, [1], slice(600, 800)]\nprint(f'Corr 1 : {roi[0]}-{roi[1]} between [{times[100]}-{times[400]}]')\nprint(f'Corr 2 : {roi[2]}-{roi[1]} between [{times[600]}-{times[800]}]')"
      ]
    },
    {
      "cell_type": "markdown",
      "metadata": {},
      "source": [
        "## Define sliding windows\n\nNext, we define, and plot sliding windows in order to compute the DFC on\nconsecutive time windows. In this example we used windows of length 100ms\nand 5ms between each consecutive windows\n\n"
      ]
    },
    {
      "cell_type": "code",
      "execution_count": null,
      "metadata": {
        "collapsed": false
      },
      "outputs": [],
      "source": [
        "slwin_len = .1    # 100ms window length\nslwin_step = .02  # 20ms between consecutive windows\nwin_sample = define_windows(times, slwin_len=slwin_len,\n                            slwin_step=slwin_step)[0]\ntimes_p = times[win_sample].mean(1)\n\n# plt.figure(figsize=(10, 8))\n# plot_windows(times, win_sample, title='Sliding windows')\n# plt.ylim(-1, 1)\n# plt.show()"
      ]
    },
    {
      "cell_type": "markdown",
      "metadata": {},
      "source": [
        "## Compute the DFC\n\nThe DFC is going to be computed per trials, bewteen pairs of ROI and inside\neach of the temporal window\n\n"
      ]
    },
    {
      "cell_type": "code",
      "execution_count": null,
      "metadata": {
        "collapsed": false
      },
      "outputs": [],
      "source": [
        "# compute DFC\ndfc = conn_dfc(x, win_sample, times=times, roi=roi, n_jobs=1)\nprint(dfc)\n\nplt.figure(figsize=(10, 8))\n# plt.plot(times_p, dfc.mean('trials').T)\ndfc.mean('trials').plot.line(x='times', hue='roi')\nplt.xlabel('Time')\nplt.title(\"Mean DFC across trials between pairs of roi\")\nplt.show()"
      ]
    }
  ],
  "metadata": {
    "kernelspec": {
      "display_name": "Python 3",
      "language": "python",
      "name": "python3"
    },
    "language_info": {
      "codemirror_mode": {
        "name": "ipython",
        "version": 3
      },
      "file_extension": ".py",
      "mimetype": "text/x-python",
      "name": "python",
      "nbconvert_exporter": "python",
      "pygments_lexer": "ipython3",
      "version": "3.8.18"
    }
  },
  "nbformat": 4,
  "nbformat_minor": 0
}