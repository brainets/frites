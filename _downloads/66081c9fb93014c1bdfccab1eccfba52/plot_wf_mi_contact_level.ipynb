{
  "cells": [
    {
      "cell_type": "markdown",
      "metadata": {},
      "source": [
        "\n# Mutual-information at the contact level\n\nThis example illustrates how to compute the mutual information inside each\nbrain region and also by taking into consideration the information at a lower\nanatomical level (e.g sEEG contact, MEG sensor etc.).\n"
      ]
    },
    {
      "cell_type": "code",
      "execution_count": null,
      "metadata": {
        "collapsed": false
      },
      "outputs": [],
      "source": [
        "import numpy as np\nimport pandas as pd\nimport xarray as xr\n\nfrom frites.dataset import DatasetEphy\nfrom frites.workflow import WfMi\nfrom frites.core import mi_nd_gg\nfrom frites import set_mpl_style\n\nimport matplotlib.pyplot as plt\nset_mpl_style()"
      ]
    },
    {
      "cell_type": "markdown",
      "metadata": {},
      "source": [
        "## I(Continuous; Continuous) case\n\nLet's start by simulating by using random data in combination with normal\ndistributions. To explain why it could be interesting to consider the\ninformation at the single contact level, we generate the data coming from one\nsingle brain region ('roi_0') but with two contacts inside ('c1', 'c2').\nFor the first the contact, the brain data are going to be positively\ncorrelated with the normal distribution while the second contact is going to\nhave negative correlations. If you concatenate the data of the two contacts,\nthe mix of positive and negative correlations break the monotonic\nassumption of the GCMI. In that case, it's better to compute the MI per\ncontact\n\n"
      ]
    },
    {
      "cell_type": "code",
      "execution_count": null,
      "metadata": {
        "collapsed": false
      },
      "outputs": [],
      "source": [
        "n_suj = 3\nn_trials = 20\nn_times = 100\nhalf = int(n_trials / 2)\ntimes = np.arange(n_times)\n\nx, y, roi = [], [], []\nfor suj in range(n_suj):\n    # initialize subject's data with random noise\n    _x = np.random.rand(n_trials, 2, n_times)\n    # normal continuous regressor\n    _y = np.random.normal(size=(n_trials,))\n\n    # first contact has positive correlations\n    _x[:, 0, slice(30, 70)] += _y.reshape(-1, 1)\n    # second contact has negative correlations\n    _x[:, 1, slice(30, 70)] -= _y.reshape(-1, 1)\n\n    x += [_x]\n    y += [_y]\n    roi += [np.array(['roi_0', 'roi_0'])]\n\n# now, compute the mi with default parameters\nds = DatasetEphy(x, y=y, roi=roi, times=times, agg_ch=True)\nmi = WfMi(mi_type='cc').fit(ds, mcp='noperm')[0]\n\n# compute the mi at the contact level\nds = DatasetEphy(x, y=y, roi=roi, times=times, agg_ch=False)\nmi_c = WfMi(mi_type='ccd').fit(ds, mcp='noperm')[0]\n\n# plot the comparison\nplt.figure()\nplt.plot(times, mi, label=\"MI across contacts\")\nplt.plot(times, mi_c, label=\"MI at the contact level\")\nplt.legend()\nplt.title('I(C; C)')\nplt.show()"
      ]
    },
    {
      "cell_type": "markdown",
      "metadata": {},
      "source": [
        "## I(Continuous; Discret) case\n\nSame example as above except that this time the MI is compute between the\ndata and a discret variable\n\n"
      ]
    },
    {
      "cell_type": "code",
      "execution_count": null,
      "metadata": {
        "collapsed": false
      },
      "outputs": [],
      "source": [
        "x, y, roi = [], [], []\nfor suj in range(n_suj):\n    # initialize subject's data with random noise\n    _x = np.random.rand(n_trials, 2, n_times)\n    # define a positive and negative offsets of 1\n    _y_pos, _y_neg = np.full((half, 1), 1.), np.full((half, 1), -1.)\n\n    # first contact / first half trials : positive offset\n    _x[0:half, 0, slice(30, 70)] += _y_pos\n    # first contact / second half trials : negative offset\n    _x[half::, 0, slice(30, 70)] += _y_neg\n    # second contact / first half trials : negative offset\n    _x[0:half, 1, slice(30, 70)] += _y_neg\n    # second contact / second half trials : positive offset\n    _x[half::, 1, slice(30, 70)] += _y_pos\n\n    x += [_x]\n    y += [np.array([0] * half + [1] * half)]\n    roi += [np.array(['roi_0', 'roi_0'])]\ntimes = np.arange(n_times)\n\n# now, compute the mi with default parameters\nds = DatasetEphy(x, y=y, roi=roi, times=times)\nmi = WfMi(mi_type='cd').fit(ds, mcp='noperm')[0]\n\n# compute the mi at the contact level\nds = DatasetEphy(x, y=y, roi=roi, times=times, agg_ch=False)\nmi_c = WfMi(mi_type='cd').fit(ds, mcp='noperm')[0]\n\n# plot the comparison\nplt.figure()\nplt.plot(times, mi, label=\"MI across contacts\")\nplt.plot(times, mi_c, label=\"MI at the contact level\")\nplt.legend()\nplt.title('I(C; D)')\nplt.show()"
      ]
    },
    {
      "cell_type": "markdown",
      "metadata": {},
      "source": [
        "## I(Continuous ; Continuous | Discret) case\n\nSame example as above except that this time the MI is compute between the\ndata and a discret variable\n\n"
      ]
    },
    {
      "cell_type": "code",
      "execution_count": null,
      "metadata": {
        "collapsed": false
      },
      "outputs": [],
      "source": [
        "x, y, z, roi = [], [], [], []\nfor suj in range(n_suj):\n    # initialize subject's data with random noise\n    _x = np.random.rand(n_trials, 2, n_times)\n    # define a positive and negative correlations\n    _y_pos = np.random.normal(loc=1, size=(half))\n    _y_neg = np.random.normal(loc=-1, size=(half))\n    _y = np.r_[_y_pos, _y_neg]\n    _z = np.array([0] * half + [1] * half)\n\n    # first contact / first half trials : positive offset\n    _x[0:half, 0, slice(30, 70)] += _y_pos.reshape(-1, 1)\n    # first contact / second half trials : negative offset\n    _x[half::, 0, slice(30, 70)] += _y_neg.reshape(-1, 1)\n    # second contact / first half trials : negative offset\n    _x[0:half, 1, slice(30, 70)] += _y_neg.reshape(-1, 1)\n    # second contact / second half trials : positive offset\n    _x[half::, 1, slice(30, 70)] += _y_pos.reshape(-1, 1)\n\n    x += [_x]\n    y += [_y]\n    z += [_z]\n    roi += [np.array(['roi_0', 'roi_0'])]\ntimes = np.arange(n_times)\n\n# now, compute the mi with default parameters\nds = DatasetEphy(x, y=y, z=z, roi=roi, times=times)\nmi = WfMi(mi_type='ccd').fit(ds, mcp='noperm')[0]\n\n# compute the mi at the contact level\nds = DatasetEphy(x, y=y, z=z, roi=roi, times=times, agg_ch=False)\nmi_c = WfMi(mi_type='ccd').fit(ds, mcp='noperm')[0]\n\n# plot the comparison\nplt.figure()\nplt.plot(times, mi, label=\"MI across contacts\")\nplt.plot(times, mi_c, label=\"MI at the contact level\")\nplt.legend()\nplt.title('I(C; C | D)')\nplt.show()"
      ]
    },
    {
      "cell_type": "markdown",
      "metadata": {},
      "source": [
        "## Xarray definition with multi-indexing\n\nFinally, we show below how to use Xarray in combination with pandas\nmulti-index to define an electrophysiological dataset\n\n"
      ]
    },
    {
      "cell_type": "code",
      "execution_count": null,
      "metadata": {
        "collapsed": false
      },
      "outputs": [],
      "source": [
        "x = []\nfor suj in range(n_suj):\n    # initialize subject's data with random noise\n    _x = np.random.rand(n_trials, 2, n_times)\n    # normal continuous regressor\n    _y = np.random.normal(size=(n_trials,))\n\n    # first contact has positive correlations\n    _x[:, 0, slice(30, 70)] += _y.reshape(-1, 1)\n    # second contact has negative correlations\n    _x[:, 1, slice(30, 70)] -= _y.reshape(-1, 1)\n    # roi and contacts definitions\n    _roi = np.array(['roi_0', 'roi_0'])\n    _contacts = np.array(['c1', 'c2'])\n\n    # multi-index definition\n    midx = pd.MultiIndex.from_arrays([_roi, _contacts],\n                                     names=('parcel', 'contacts'))\n    # xarray definition\n    _x_xr = xr.DataArray(_x, dims=('trials', 'space', 'times'),\n                         coords=(_y, midx, times))\n\n    x += [_x_xr]\n\n# finally, define the electrophysiological dataset and specify the dimension\n# names to use\nds_xr = DatasetEphy(x, y='trials', roi='parcel', agg_ch=False, times='times')\nprint(ds_xr)"
      ]
    }
  ],
  "metadata": {
    "kernelspec": {
      "display_name": "Python 3",
      "language": "python",
      "name": "python3"
    },
    "language_info": {
      "codemirror_mode": {
        "name": "ipython",
        "version": 3
      },
      "file_extension": ".py",
      "mimetype": "text/x-python",
      "name": "python",
      "nbconvert_exporter": "python",
      "pygments_lexer": "ipython3",
      "version": "3.8.18"
    }
  },
  "nbformat": 4,
  "nbformat_minor": 0
}