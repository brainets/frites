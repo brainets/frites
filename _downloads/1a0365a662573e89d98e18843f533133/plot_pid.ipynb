{
  "cells": [
    {
      "cell_type": "markdown",
      "metadata": {},
      "source": [
        "\n# PID: Decomposing the information carried by pairs of brain regions\n\nThis example illustrates how to decompose the information carried by pairs of\nbrain regions about a behavioral variable `y` (e.g. stimulus, outcome, learning\ncurve, etc.). Here, we use the Partial Information Decomposition (PID) that\nleads four non-negative and exclusive atoms of information:\n- The unique information carried by the first brain region about `y`\n- The unique information carried by the second brain region about `y`\n- The redundant information carried by both regions about `y`\n- The synergistic r complementary information carried by both regions about `y`\n"
      ]
    },
    {
      "cell_type": "code",
      "execution_count": null,
      "metadata": {
        "collapsed": false
      },
      "outputs": [],
      "source": [
        "import numpy as np\nimport xarray as xr\n\nfrom frites.simulations import StimSpecAR\nfrom frites.conn import conn_pid\n\nfrom frites import set_mpl_style\n\nimport matplotlib.pyplot as plt\nset_mpl_style()"
      ]
    },
    {
      "cell_type": "markdown",
      "metadata": {},
      "source": [
        "## Data simulation\n\nLet's simulate some data. Here, we use an auto-regressive simulating a gamma\nincrease. The gamma increase is modulated according to two conditions.\n\n"
      ]
    },
    {
      "cell_type": "code",
      "execution_count": null,
      "metadata": {
        "collapsed": false
      },
      "outputs": [],
      "source": [
        "ar_type = 'hga'\nn_stim = 2\nn_epochs = 300\n\nss = StimSpecAR()\nar = ss.fit(ar_type=ar_type, n_epochs=n_epochs, n_stim=n_stim)\n\nprint(ar)\n\nplt.figure(figsize=(7, 8))\nss.plot(cmap='bwr')\nplt.tight_layout()\nplt.show()"
      ]
    },
    {
      "cell_type": "markdown",
      "metadata": {},
      "source": [
        "## Compute Partial Information Decomposition\n\nNow we can use the simulated data to estimate the PID. Here, we'll try to\ndecompose at each time point, the information carried by pairs of brain\nregions about the two conditions.\n\n"
      ]
    },
    {
      "cell_type": "code",
      "execution_count": null,
      "metadata": {
        "collapsed": false
      },
      "outputs": [],
      "source": [
        "# compute the PID\ninfotot, unique, redundancy, synergy = conn_pid(\n    ar, 'trials', roi='roi', times='times', mi_type='cd', verbose=False\n)\n\n# plot the results\ninfotot.plot(color='C3', label=r\"$Info_{Tot}$\", linestyle='--')\nredundancy.plot(color='C0', label=r\"$Redundancy_{XY}$\")\nsynergy.plot(color='C1', label=r\"$Synergy_{XY}$\")\nunique.sel(roi='x').squeeze().plot(color='C4', label=r\"$Unique_{X}$\")\nunique.sel(roi='y').squeeze().plot(color='C5', label=r\"$Unique_{Y}$\")\nplt.legend()\nplt.ylabel(\"Information [Bits]\")\nplt.axvline(0., color='C3', lw=2)\nplt.title(\"Decomposition of the information carried by a pair of brain regions\"\n          \"\\nabout a task-related variable\", fontweight='bold')\nplt.show()"
      ]
    },
    {
      "cell_type": "markdown",
      "metadata": {},
      "source": [
        "from the plot above, we can see that:\n1. The total information carried by the pairs of regions (Info_{Tot})\n2. At the beginning, a large portion of the information is carried by the\n   first brain region (Unique_{X})\n3. Then we can see a superimposition of redundancy (Redundancy_{XY}) and\n   synergy (Synergy_{XY}) carried by both regions\n4. Finally, later in time most of the information is carried by the second\n   brain region Y (Unique_{X})\n\n"
      ]
    }
  ],
  "metadata": {
    "kernelspec": {
      "display_name": "Python 3",
      "language": "python",
      "name": "python3"
    },
    "language_info": {
      "codemirror_mode": {
        "name": "ipython",
        "version": 3
      },
      "file_extension": ".py",
      "mimetype": "text/x-python",
      "name": "python",
      "nbconvert_exporter": "python",
      "pygments_lexer": "ipython3",
      "version": "3.8.18"
    }
  },
  "nbformat": 4,
  "nbformat_minor": 0
}