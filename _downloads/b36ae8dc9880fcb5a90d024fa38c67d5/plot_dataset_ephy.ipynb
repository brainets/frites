{
  "cells": [
    {
      "cell_type": "markdown",
      "metadata": {},
      "source": [
        "\n# Build an electrophysiological dataset\n\nIn Frites, a dataset is a structure for grouping the electrophysiological data\n(e.g MEG / EEG / Intracranial) coming from multiple subjects. In addition,\nsome basic operations can also be performed (like slicing, smoothing etc.). In\nthis example we illutrate how to define a dataset using NumPy arrays.\n"
      ]
    },
    {
      "cell_type": "code",
      "execution_count": null,
      "metadata": {
        "collapsed": false
      },
      "outputs": [],
      "source": [
        "import numpy as np\n\nfrom frites.dataset import DatasetEphy\nfrom frites import set_mpl_style\n\nimport matplotlib.pyplot as plt\nset_mpl_style()"
      ]
    },
    {
      "cell_type": "markdown",
      "metadata": {},
      "source": [
        "## Create artificial data\n\nWe start by creating some random data for several subjects. To do that, each\nsubject is going have a 3 dimensional array of shape\n(n_epochs, n_channels, n_times). Then, all of the arrays are grouped together\nin a list of length (n_subjects,)\n\n"
      ]
    },
    {
      "cell_type": "code",
      "execution_count": null,
      "metadata": {
        "collapsed": false
      },
      "outputs": [],
      "source": [
        "n_subjects = 5\nn_epochs = 10\nn_channels = 5\nn_times = 1000\nsf = 512\n\nx, ch = [], []\nfor k in range(n_subjects):\n    # generate single subject data\n    x_suj = np.random.rand(n_epochs, n_channels, n_times)\n    # generate some random channel names\n    ch_suj = np.array([f\"ch_{r}\" for r in range(n_channels)])\n    # concatenate in a list\n    x.append(x_suj)\n    ch.append(ch_suj)\n# finally lets create a time vector\ntimes = np.arange(n_times) / sf"
      ]
    },
    {
      "cell_type": "markdown",
      "metadata": {},
      "source": [
        "## Create the dataset\n\nThe creation of the dataset is performed using the class\n:class:`frites.dataset.DatasetEphy`\n\n"
      ]
    },
    {
      "cell_type": "code",
      "execution_count": null,
      "metadata": {
        "collapsed": false
      },
      "outputs": [],
      "source": [
        "dt = DatasetEphy(x.copy(), roi=ch, times=times)\nprint(dt)\n\nplt.plot(dt.times, dt.x[0][:, 0, :].T)\nplt.xlabel('Times')\nplt.title('Electrophysiological data of the channel of the first subject')\nplt.show()"
      ]
    },
    {
      "cell_type": "markdown",
      "metadata": {},
      "source": [
        "## Data smoothing\n\nIf you have MNE-Python installed, you can also smooth the data using\n:class:`frites.dataset.DatasetEphy.savgol_filter`. One important thing is\nthat operations are performed inplace, which means that once launched, the\ndata are modified inside the dataset without copy\n\n"
      ]
    },
    {
      "cell_type": "code",
      "execution_count": null,
      "metadata": {
        "collapsed": false
      },
      "outputs": [],
      "source": [
        "# high cut-off frequency at 4Hz\ndt.savgol_filter(4)\n\nplt.plot(dt.times, dt.x[0][:, 0, :].T)\nplt.xlabel('Times')\nplt.title('Smoothed dataset')\nplt.show()"
      ]
    },
    {
      "cell_type": "markdown",
      "metadata": {},
      "source": [
        "## Temporal slicing\n\nThe dataset also supports some basic slicing operations through time. Slicing\nis still performed inplace\n\n"
      ]
    },
    {
      "cell_type": "code",
      "execution_count": null,
      "metadata": {
        "collapsed": false
      },
      "outputs": [],
      "source": [
        "# temporal selection between [0.25, 1.75]\ndt = dt.sel(times=slice(0.25, 1.75))\n\n# sphinx_gallery_thumbnail_number = 3\nplt.plot(dt.times, dt.x[0][:, 0, :].T)\nplt.xlabel('Times')\nplt.title('Temporal slicing')\nplt.show()"
      ]
    }
  ],
  "metadata": {
    "kernelspec": {
      "display_name": "Python 3",
      "language": "python",
      "name": "python3"
    },
    "language_info": {
      "codemirror_mode": {
        "name": "ipython",
        "version": 3
      },
      "file_extension": ".py",
      "mimetype": "text/x-python",
      "name": "python",
      "nbconvert_exporter": "python",
      "pygments_lexer": "ipython3",
      "version": "3.8.18"
    }
  },
  "nbformat": 4,
  "nbformat_minor": 0
}