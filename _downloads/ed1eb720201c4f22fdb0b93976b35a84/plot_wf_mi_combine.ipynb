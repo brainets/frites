{
  "cells": [
    {
      "cell_type": "markdown",
      "metadata": {},
      "source": [
        "\n# Investigate relation of order\n\nThis example illustrates how to investigate whether the effect size between\ntwo conditions exceed the effect between two other conditions. To this end, we\nare first going to going the effect sizes inside the two conditions and then\ncombine the effects (subtraction).\n"
      ]
    },
    {
      "cell_type": "code",
      "execution_count": null,
      "metadata": {
        "collapsed": false
      },
      "outputs": [],
      "source": [
        "import numpy as np\nimport xarray as xr\n\nfrom frites.simulations import sim_local_cd_ms\nfrom frites.dataset import DatasetEphy\nfrom frites.workflow import WfMi, WfMiCombine\nfrom frites import set_mpl_style\n\nimport matplotlib.pyplot as plt\nset_mpl_style()"
      ]
    },
    {
      "cell_type": "markdown",
      "metadata": {},
      "source": [
        "## Simulate electrophysiological data\n\nLet's start by simulating MEG / EEG electrophysiological data coming from\nmultiple subjects. We are going to be simulate two conditions : (i) in a\nfirst condition, we introduce some differences between two stimulus early in\ntimes (i.e. between time samples [20, 40]) and (ii) we introduce some\ndifferences between two other stimulus but this time, later in times (i.e.\nbetween time samples [50, 70])\n\n"
      ]
    },
    {
      "cell_type": "code",
      "execution_count": null,
      "metadata": {
        "collapsed": false
      },
      "outputs": [],
      "source": [
        "n_epochs = 50\nn_roi = 1\nn_times = 100\nn_subjects = 4\nkw_data = dict(n_epochs=n_epochs, n_roi=n_roi)\n\ndef generate_data(cluster, condition=1):\n    \"\"\"Generate the data of a single condition.\"\"\"\n    remap = {\n        1: {0: 1, 1: 2},\n        2: {0: 3, 1: 4}\n    }[condition]\n    # generate data as standard arrays\n    x, y, roi, times = sim_local_cd_ms(n_subjects, cl_index=cluster, **kw_data)\n    # xarray conversion\n    x_xr = []\n    for k in range(n_subjects):\n        _x = xr.DataArray(x[k], dims=('trials', 'roi', 'times'),\n                          coords=([remap[k] for k in y[k]], roi[k], times))\n        x_xr.append(_x)\n\n    return x_xr\n\n# generate the data of both conditions\nx_1 = generate_data([20, 40], condition=1)  # stimulus {1, 2}\nx_2 = generate_data([50, 70], condition=2)  # stimulus {3, 4}\n\n# merge the two datasets (only for plotting the results)\nx_1_plt = xr.concat(x_1, 'trials').groupby('trials').mean('trials')\nx_2_plt = xr.concat(x_2, 'trials').groupby('trials').mean('trials')\nx_12_plt = xr.Dataset({'Condition 1': x_1_plt, 'Condition 2': x_2_plt})\nx_12_plt = x_12_plt.to_array('conditions')\nx_12_plt.plot(x='times', hue='trials', col='conditions')\nplt.show()"
      ]
    },
    {
      "cell_type": "markdown",
      "metadata": {},
      "source": [
        "## Compute effect size in both conditions\n\nNow we can compute the effect size by means of mi in both conditions\n\n"
      ]
    },
    {
      "cell_type": "code",
      "execution_count": null,
      "metadata": {
        "collapsed": false
      },
      "outputs": [],
      "source": [
        "# define additional arguments\nkw_ds = dict(y='trials', roi='roi', times='times')\nkw_wf = dict(inference='rfx', mi_type='cd')\nkw_fit = dict(mcp='cluster', n_perm=200)\n\n# define both electrophysiological datasets\nds_1 = DatasetEphy(x_1, **kw_ds)\nds_2 = DatasetEphy(x_2, **kw_ds)\n\n# define two workflows of mutual-information\nwf_1 = WfMi(**kw_wf)\nwf_2 = WfMi(**kw_wf)\n\n# compute effect size in both conditions\nmi_1, pv_1 = wf_1.fit(ds_1, **kw_fit)\nmi_2, pv_2 = wf_2.fit(ds_2, **kw_fit)\n\n# merge mi of both conditions for plotting\nmi_12 = xr.Dataset({\n    'MI condition 1': mi_1.squeeze(),\n    'MI condition 2': mi_2.squeeze()\n}).to_array('conditions')\nmi_12.plot(x='times', hue='conditions')\nplt.show()"
      ]
    },
    {
      "cell_type": "markdown",
      "metadata": {},
      "source": [
        "## Investigate relation of order\n\nNow we can investigate relations of order i.e. find everywhere the effect\nsize in the first condition exceed the effect size of the second condition\nand conversely. To this end, we are going to combine the results of both\nworkflows.\n\n"
      ]
    },
    {
      "cell_type": "code",
      "execution_count": null,
      "metadata": {
        "collapsed": false
      },
      "outputs": [],
      "source": [
        "# find where mi_1 > mi_2\nwf_12 = WfMiCombine(wf_1, wf_2)\nmi_12, pv_12 = wf_12.fit(**kw_fit)\n\n# find where mi_2 > mi_1\nwf_21 = WfMiCombine(wf_2, wf_1)\nmi_21, pv_21 = wf_21.fit(**kw_fit)\n\n# combine the results for plotting\nmi_order = xr.Dataset({\n    'mi_1 > mi_2': (pv_12 < 0.05).squeeze(),\n    'mi_2 > mi_1': (pv_21 < 0.05).squeeze(),\n}).to_array('conditions')\nmi_order.plot(x='times', hue='conditions')\nplt.show()"
      ]
    }
  ],
  "metadata": {
    "kernelspec": {
      "display_name": "Python 3",
      "language": "python",
      "name": "python3"
    },
    "language_info": {
      "codemirror_mode": {
        "name": "ipython",
        "version": 3
      },
      "file_extension": ".py",
      "mimetype": "text/x-python",
      "name": "python",
      "nbconvert_exporter": "python",
      "pygments_lexer": "ipython3",
      "version": "3.8.18"
    }
  },
  "nbformat": 4,
  "nbformat_minor": 0
}