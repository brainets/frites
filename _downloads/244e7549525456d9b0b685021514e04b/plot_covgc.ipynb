{
  "cells": [
    {
      "cell_type": "markdown",
      "metadata": {},
      "source": [
        "\n# Estimate the covariance-based Granger Causality\n\nThis example illustrates how to compute single-trial covariance-based Granger\nCausality.\n"
      ]
    },
    {
      "cell_type": "code",
      "execution_count": null,
      "metadata": {
        "collapsed": false
      },
      "outputs": [],
      "source": [
        "import numpy as np\nfrom itertools import product\n\nfrom frites.simulations import sim_single_suj_ephy\nfrom frites.conn import (conn_covgc, conn_reshape_directed,\n                         conn_reshape_undirected)\nfrom frites import set_mpl_style\n\nimport matplotlib.pyplot as plt\nimport seaborn as sns\nset_mpl_style()"
      ]
    },
    {
      "cell_type": "markdown",
      "metadata": {},
      "source": [
        "## Simulate electrophysiological data\n\nLet's start by simulating MEG / EEG electrophysiological data coming from\na single subject. The output data of this single subject has a shape of\n(n_epochs, n_roi, n_times)\n\n"
      ]
    },
    {
      "cell_type": "code",
      "execution_count": null,
      "metadata": {
        "collapsed": false
      },
      "outputs": [],
      "source": [
        "modality = 'meeg'\nn_roi = 3\nn_epochs = 10\nn_times = 1000\nx, roi, _ = sim_single_suj_ephy(n_epochs=n_epochs, n_times=n_times,\n                                modality=modality, n_roi=n_roi, random_state=0)\ntimes = np.linspace(-1, 1, n_times)"
      ]
    },
    {
      "cell_type": "markdown",
      "metadata": {},
      "source": [
        "## Simulate spatial correlations\n\nBellow, we are simulating some distant correlations by injecting the\nactivity of an ROI to another\n\n"
      ]
    },
    {
      "cell_type": "code",
      "execution_count": null,
      "metadata": {
        "collapsed": false
      },
      "outputs": [],
      "source": [
        "# instantaneous between 0 and 2 (0.2)\nx[:, [2], slice(200, 400)] += x[:, [0], slice(200, 400)]\n# directed flow from 2 to 1 (2->1)\nx[:, [1], slice(400, 600)] += x[:, [2], slice(400, 600)]\nx[:, [2], slice(399, 599)] += x[:, [2], slice(400, 600)]\n# directed flow from 0 to 1 (0->1)\nx[:, [0], slice(600, 800)] += x[:, [1], slice(600, 800)]\nx[:, [0], slice(599, 799)] += x[:, [0], slice(600, 800)]"
      ]
    },
    {
      "cell_type": "markdown",
      "metadata": {},
      "source": [
        "## Compute the covgc\n\nThe covgc is going to be computed per trials, bewteen pairs of ROI and inside\neach of the temporal window\n\n"
      ]
    },
    {
      "cell_type": "code",
      "execution_count": null,
      "metadata": {
        "collapsed": false
      },
      "outputs": [],
      "source": [
        "t0 = np.arange(100, 900, 10)\nlag = 10\ndt = 100\ngc = conn_covgc(x, dt, lag, t0, times=times, roi=roi, n_jobs=1)\nroi_p = gc['roi'].data"
      ]
    },
    {
      "cell_type": "markdown",
      "metadata": {},
      "source": [
        "Below we plot the mean time series of both directed and undirected covgc\n\n"
      ]
    },
    {
      "cell_type": "code",
      "execution_count": null,
      "metadata": {
        "collapsed": false
      },
      "outputs": [],
      "source": [
        "# take the mean across trials\ngc = gc.mean('trials')\n\nplt.figure(figsize=(10, 8))\nplt.subplot(311)\nfor r in roi_p:\n    plt.plot(gc.times.data, gc.sel(roi=r, direction='x->y').T,\n             label=r.replace('-', ' -> '))\nplt.legend()\nplt.subplot(312)\nfor r in roi_p:\n    plt.plot(gc.times.data, gc.sel(roi=r, direction='y->x').T,\n             label=r.replace('-', ' <- '))\nplt.legend()\nplt.subplot(313)\nfor r in roi_p:\n    plt.plot(gc.times.data, gc.sel(roi=r, direction='x.y').T,\n             label=r.replace('-', ' . '))\nplt.legend()\nplt.xlabel('Time')\nplt.show()"
      ]
    },
    {
      "cell_type": "markdown",
      "metadata": {},
      "source": [
        "Finally, you can also plot the 2D representation of the connectivity arrays\n\n"
      ]
    },
    {
      "cell_type": "code",
      "execution_count": null,
      "metadata": {
        "collapsed": false
      },
      "outputs": [],
      "source": [
        "# select instantaneous at -0.4 seconds\ngc_inst = gc.copy().sel(times=-.4, method='nearest').sel(direction='x.y')\ngc_2d_inst = conn_reshape_undirected(gc_inst, to_dataframe=True)\n\n# select directed connectivity at 0. and 0.4 seconds\ngc_0 = gc.copy().sel(times=0., method='nearest')\ngc_2d_0 = conn_reshape_directed(gc_0, to_dataframe=True)\n\ngc_04 = gc.copy().sel(times=0.4, method='nearest')\ngc_2d_04 = conn_reshape_directed(gc_04, to_dataframe=True)\n\n# plot the 2d connectivity arrays\nplt.figure(figsize=(18, 6))\n\nkw = dict(cmap='viridis', vmin=0., square=True)\n\nplt.subplot(131)\nsns.heatmap(gc_2d_inst, **kw)\nplt.title(\"Instantaneous connectivity at -0.4s\")\nplt.subplot(132)\nsns.heatmap(gc_2d_0, **kw)\nplt.title(\"Directed connectivity at 0s\")\nplt.subplot(133)\nsns.heatmap(gc_2d_04, **kw)\nplt.title(\"Directed connectivity at 0.4s\")\nplt.tight_layout()\n\nplt.show()"
      ]
    }
  ],
  "metadata": {
    "kernelspec": {
      "display_name": "Python 3",
      "language": "python",
      "name": "python3"
    },
    "language_info": {
      "codemirror_mode": {
        "name": "ipython",
        "version": 3
      },
      "file_extension": ".py",
      "mimetype": "text/x-python",
      "name": "python",
      "nbconvert_exporter": "python",
      "pygments_lexer": "ipython3",
      "version": "3.8.18"
    }
  },
  "nbformat": 4,
  "nbformat_minor": 0
}