{
  "cells": [
    {
      "cell_type": "markdown",
      "metadata": {},
      "source": [
        "\n# Defining a custom estimator\n\nThis example illustrates how to define a custom estimator for measuring\ninformation. In particular, we are going to define estimators from the field\nof machine-learning by means of decoding and regression.\n"
      ]
    },
    {
      "cell_type": "code",
      "execution_count": null,
      "metadata": {
        "collapsed": false
      },
      "outputs": [],
      "source": [
        "import numpy as np\nimport xarray as xr\n\nfrom frites.estimator import CustomEstimator\n\nfrom sklearn.discriminant_analysis import LinearDiscriminantAnalysis\nfrom sklearn.linear_model import LinearRegression\nfrom sklearn.model_selection import cross_val_score\nfrom frites import set_mpl_style\n\nimport matplotlib.pyplot as plt\nset_mpl_style()"
      ]
    },
    {
      "cell_type": "markdown",
      "metadata": {},
      "source": [
        "## Custom estimator : decoders\n\nThis first part introduces how to define custom estimators in order to\nclassify conditions.\n\n"
      ]
    },
    {
      "cell_type": "code",
      "execution_count": null,
      "metadata": {
        "collapsed": false
      },
      "outputs": [],
      "source": [
        "# main decoding function\ndef classify(x, y):\n    \"\"\"Classify conditions for 3D variables.\n\n    x.shape = (n_var, 1, n_samples)\n    y.shape = (n_var, 1, n_samples)\n    \"\"\"\n    # define the decoder to use\n    decoder = LinearDiscriminantAnalysis()\n\n    # classify each point\n    n_var = x.shape[0]\n    decoding = np.zeros((n_var,))\n    for n in range(n_var):\n        d = cross_val_score(decoder, x[n, :, :].T, y[n, 0, :], cv=10, n_jobs=1)\n        decoding[n] = d.mean() * 100.\n    return decoding\n\n# data simulation\nn_trials = 1000\nn_times = 100\ntimes = (np.arange(n_times) - 35) / 64.\nhalf_trials = int(np.round(n_trials / 2))\n\nx = np.random.normal(scale=.5, size=(n_times, 1, n_trials))\nx[35:65, :, half_trials::] += np.hanning(30).reshape(-1, 1, 1)\ny = np.array([0] * half_trials + [1] * half_trials)\n\n\n# define the custom estimator\nname = 'Decoder estimator'\nmi_type = 'cd'  # decoding a continuous variable based on a discrete one\nmultivariate = False  # estimator is designed for univariate inputs\nest = CustomEstimator(name, mi_type, classify, multivariate=multivariate)\n\n# run the estimator\ndecoding = est.estimate(x, y).squeeze()\n\n# plot the result\nplt.figure(figsize=(10, 5))\n\nplt.subplot(1, 2, 1)\nx = xr.DataArray(x, dims=('times', 'mv', 'trials'), coords=(times, [0], y))\nx_gp = x.groupby('trials').mean('trials').squeeze()\nplt.plot(times, x_gp.sel(trials=0), color='#6633cc', label='Trials in class 0',\n         lw=2)\nplt.plot(times, x_gp.sel(trials=1), color='#6699cc', label='Trials in class 1',\n         lw=2)\nplt.legend()\nplt.xlabel('Times (s)')\nplt.title(\"Simulated data in both classes\")\n\nplt.subplot(1, 2, 2)\nplt.plot(times, decoding, lw=2, color='#66cccc')\nplt.xlabel('Times (s)')\nplt.ylabel('Decoding (%)')\nplt.title('Decoding accuracy')\nplt.tight_layout()\n\nplt.show()"
      ]
    },
    {
      "cell_type": "markdown",
      "metadata": {},
      "source": [
        "## Custom estimator : regression\n\nThis second part introduces how to define custom estimators in order to\nperform regressions.\n\n"
      ]
    },
    {
      "cell_type": "code",
      "execution_count": null,
      "metadata": {
        "collapsed": false
      },
      "outputs": [],
      "source": [
        "# main decoding function\ndef regression(x, y):\n    \"\"\"Regression between x and y variables.\n\n    x.shape = (n_var, 1, n_samples)\n    y.shape = (n_var, 1, n_samples)\n    \"\"\"\n    # define the regression to use\n    regressor = LinearRegression()\n\n    # classify each point\n    n_var = x.shape[0]\n    regr = np.zeros((n_var,))\n    for n in range(n_var):\n        d = cross_val_score(regressor, x[n, :, :].T, y[n, 0, :], cv=10,\n                            n_jobs=1, scoring='r2')\n        regr[n] = d.mean()\n    return regr\n\n\n# data simulation\nn_trials = 1000\nn_times = 100\ntimes = (np.arange(n_times) - 35) / 64.\n\nx = np.random.normal(scale=.5, size=(n_times, 1, n_trials))\ny = np.random.normal(size=(n_trials,))\nx[35:65, ...] += y.reshape(1, 1, -1) * np.hanning(30).reshape(-1, 1, 1)\n\n# define the custom estimator\nname = 'Regression estimator'\nmi_type = 'cc'  # regression between two continuous variables\nmultivariate = False  # estimator is designed for univariate inputs\nest = CustomEstimator(name, mi_type, regression, multivariate=multivariate)\n\n# run the estimator\nregr = est.estimate(x, y).squeeze()\n\n# plot the result\nplt.figure(figsize=(10, 5))\n\nplt.subplot(1, 2, 1)\nplt.scatter(x[50, 0, :], y, alpha=.5, s=40, color='#6633cc')\nplt.xlabel('x')\nplt.ylabel('y')\nplt.title(\"Relation between x and y at time point=50\")\n\nplt.subplot(1, 2, 2)\nplt.plot(times, regr, lw=2, color='#66cccc')\nplt.xlabel('Times (s)')\nplt.ylabel('R ** 2')\nplt.title('R ** 2')\nplt.tight_layout()\n\nplt.show()"
      ]
    }
  ],
  "metadata": {
    "kernelspec": {
      "display_name": "Python 3",
      "language": "python",
      "name": "python3"
    },
    "language_info": {
      "codemirror_mode": {
        "name": "ipython",
        "version": 3
      },
      "file_extension": ".py",
      "mimetype": "text/x-python",
      "name": "python",
      "nbconvert_exporter": "python",
      "pygments_lexer": "ipython3",
      "version": "3.8.18"
    }
  },
  "nbformat": 4,
  "nbformat_minor": 0
}