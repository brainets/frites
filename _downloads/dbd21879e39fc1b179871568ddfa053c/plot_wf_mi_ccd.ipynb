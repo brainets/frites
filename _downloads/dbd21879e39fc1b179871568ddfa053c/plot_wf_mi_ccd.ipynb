{
  "cells": [
    {
      "cell_type": "markdown",
      "metadata": {},
      "source": [
        "\n# MI between two continuous variables conditioned by a discret one\n\nThis example illustrates how to compute the mutual information between two\ncontinuous variables, conditioned by a discret one. The first variable is an\nelectrophysiological data (M/EEG, intracranial). The second continuous is\nusually a regressor and the third is a discret variable composed with integers\ngenerally describing conditions. This type of mutual information is equivalent\nto partial correlation. For further details, see Ince et al., 2017\n:cite:`ince2017statistical`\n"
      ]
    },
    {
      "cell_type": "code",
      "execution_count": null,
      "metadata": {
        "collapsed": false
      },
      "outputs": [],
      "source": [
        "from frites.simulations import sim_multi_suj_ephy, sim_mi_ccd\nfrom frites.dataset import DatasetEphy\nfrom frites.workflow import WfMi\nfrom frites import set_mpl_style\n\nimport matplotlib.pyplot as plt\nset_mpl_style()"
      ]
    },
    {
      "cell_type": "markdown",
      "metadata": {},
      "source": [
        "## Simulate electrophysiological data\n\nLet's start by simulating MEG / EEG electrophysiological data coming from\nmultiple subjects using the function\n:func:`frites.simulations.sim_multi_suj_ephy`. As a result, the `x` output\nis a list of length `n_subjects` of arrays, each one with a shape of\nn_epochs, n_sites, n_times\n\n"
      ]
    },
    {
      "cell_type": "code",
      "execution_count": null,
      "metadata": {
        "collapsed": false
      },
      "outputs": [],
      "source": [
        "modality = 'meeg'\nn_subjects = 5\nn_epochs = 400\nn_times = 100\nx, roi, time = sim_multi_suj_ephy(n_subjects=n_subjects, n_epochs=n_epochs,\n                                  n_times=n_times, modality=modality,\n                                  random_state=0)"
      ]
    },
    {
      "cell_type": "markdown",
      "metadata": {},
      "source": [
        "## Extract the continuous and the discret variable\n\nHere we extract the continuous and the discret variables from the random\ndataset generated above\n\n"
      ]
    },
    {
      "cell_type": "code",
      "execution_count": null,
      "metadata": {
        "collapsed": false
      },
      "outputs": [],
      "source": [
        "y, z, _ = sim_mi_ccd(x, snr=1.)"
      ]
    },
    {
      "cell_type": "markdown",
      "metadata": {},
      "source": [
        "## Define the electrophysiological dataset\n\nNow we define an instance of :class:`frites.dataset.DatasetEphy`\n\n"
      ]
    },
    {
      "cell_type": "code",
      "execution_count": null,
      "metadata": {
        "collapsed": false
      },
      "outputs": [],
      "source": [
        "dt = DatasetEphy(x, y=y, roi=roi, z=z, times=time)"
      ]
    },
    {
      "cell_type": "markdown",
      "metadata": {},
      "source": [
        "## Compute the mutual information\n\nOnce we have the dataset instance, we can then define an instance of workflow\n:class:`frites.workflow.WfMi`. This instance is used to compute the mutual\ninformation\n\n"
      ]
    },
    {
      "cell_type": "code",
      "execution_count": null,
      "metadata": {
        "collapsed": false
      },
      "outputs": [],
      "source": [
        "# mutual information type ('ccd' = continuous; continuous | discret)\nmi_type = 'ccd'\n\n# define the workflow\nwf = WfMi(mi_type=mi_type)\n# compute the mutual information\nmi, _ = wf.fit(dt, mcp=None, n_jobs=1)\n\n# plot the information shared between the data and the regressor y\nplt.plot(time, mi)\nplt.xlabel(\"Time (s)\"), plt.ylabel(\"MI (bits)\")\nplt.title('I(C; C | D)')\nplt.show()"
      ]
    }
  ],
  "metadata": {
    "kernelspec": {
      "display_name": "Python 3",
      "language": "python",
      "name": "python3"
    },
    "language_info": {
      "codemirror_mode": {
        "name": "ipython",
        "version": 3
      },
      "file_extension": ".py",
      "mimetype": "text/x-python",
      "name": "python",
      "nbconvert_exporter": "python",
      "pygments_lexer": "ipython3",
      "version": "3.8.18"
    }
  },
  "nbformat": 4,
  "nbformat_minor": 0
}