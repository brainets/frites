{
  "cells": [
    {
      "cell_type": "markdown",
      "metadata": {},
      "source": [
        "\n# AR : conditional covariance based Granger Causality\n\nThis example reproduces the results of Ding et al. 2006 :cite:`ding2006granger`\nwhere in Fig3 there's an indirect transfer of information from Y->X that is\nmediated by Z. The problem is that if the Granger Causality is used, there's\nindeed a transfer of information from Y->X while with the conditional Granger\ncausality, conditioning by the past of other sources suppresses this indirect\ntransfer.\n"
      ]
    },
    {
      "cell_type": "code",
      "execution_count": null,
      "metadata": {
        "collapsed": false
      },
      "outputs": [],
      "source": [
        "import numpy as np\n\nfrom frites import set_mpl_style\nfrom frites.simulations import StimSpecAR\nfrom frites.conn import conn_covgc\n\nimport matplotlib.pyplot as plt\nset_mpl_style()"
      ]
    },
    {
      "cell_type": "markdown",
      "metadata": {},
      "source": [
        "## Simulate 3 nodes 40hz oscillations\n\nHere, we use the class :class:`frites.simulations.StimSpecAR` to simulate an\nstimulus-specific autoregressive model made of three nodes (X, Y and Z). This\nnetwork simulates a transfer Y->Z and Z->X such as an indirect transfer from\nY->X mediated by Z\n\n"
      ]
    },
    {
      "cell_type": "code",
      "execution_count": null,
      "metadata": {
        "collapsed": false
      },
      "outputs": [],
      "source": [
        "ar_type = 'ding_3_indirect'  # 40hz oscillations\nn_stim = 2                   # number of stimulus\nn_epochs = 50                # number of epochs per stimulus\n\nss = StimSpecAR()\nar = ss.fit(ar_type=ar_type, n_epochs=n_epochs, n_stim=n_stim)"
      ]
    },
    {
      "cell_type": "markdown",
      "metadata": {},
      "source": [
        "plot the network\n\n"
      ]
    },
    {
      "cell_type": "code",
      "execution_count": null,
      "metadata": {
        "collapsed": false
      },
      "outputs": [],
      "source": [
        "plt.figure(figsize=(5, 4))\nss.plot_model()\nplt.show()"
      ]
    },
    {
      "cell_type": "markdown",
      "metadata": {},
      "source": [
        "## Compute the Granger-Causality\n\nWe first compute the Granger Causality and then the conditional Granger\ncausality (i.e conditioning by the past coming from other sources)\n\n"
      ]
    },
    {
      "cell_type": "code",
      "execution_count": null,
      "metadata": {
        "collapsed": false
      },
      "outputs": [],
      "source": [
        "dt, lag, step = 50, 5, 2\nt0 = np.arange(lag, ar.shape[-1] - dt, step)\nkw_gc = dict(dt=dt, lag=lag, step=1, t0=t0, roi='roi', times='times',\n             n_jobs=-1)\n# granger causality\ngc = conn_covgc(ar, conditional=False, **kw_gc)\n\n# conditional granger causality\ngc_cond = conn_covgc(ar, conditional=True, **kw_gc)"
      ]
    },
    {
      "cell_type": "markdown",
      "metadata": {},
      "source": [
        "Plot the Granger causality\n\n"
      ]
    },
    {
      "cell_type": "code",
      "execution_count": null,
      "metadata": {
        "collapsed": false
      },
      "outputs": [],
      "source": [
        "plt.figure(figsize=(12, 10))\nss.plot_covgc(gc)\nplt.tight_layout()\nplt.show()"
      ]
    },
    {
      "cell_type": "markdown",
      "metadata": {},
      "source": [
        "Plot the conditional Granger causality\n\n"
      ]
    },
    {
      "cell_type": "code",
      "execution_count": null,
      "metadata": {
        "collapsed": false
      },
      "outputs": [],
      "source": [
        "plt.figure(figsize=(12, 10))\nss.plot_covgc(gc_cond)\nplt.tight_layout()\nplt.show()"
      ]
    },
    {
      "cell_type": "markdown",
      "metadata": {},
      "source": [
        "## Direct comparison\n\nIn this plot, we only select the transfer of information from Y->X for both\ngranger and conditional granger causality\n\n"
      ]
    },
    {
      "cell_type": "code",
      "execution_count": null,
      "metadata": {
        "collapsed": false
      },
      "outputs": [],
      "source": [
        "# select Y->X and mean per stimulus for the granger causality\ngc_yx = gc.sel(roi='x-y', direction='y->x').groupby('trials').mean('trials')\ngc_yx = gc_yx.rename({'trials': 'stimulus'})\n\n# select Y->X and mean per stimulus for the conditional granger causality\ngc_cond_yx = gc_cond.sel(roi='x-y', direction='y->x').groupby('trials').mean(\n    'trials')\ngc_cond_yx = gc_cond_yx.rename({'trials': 'stimulus'})\n\n# get (min, max) of granger causality from Y->X\ngc_min = min(gc_yx.data.min(), gc_cond_yx.data.min())\ngc_max = max(gc_yx.data.max(), gc_cond_yx.data.max())\n\n# sphinx_gallery_thumbnail_number = 4\nplt.figure(figsize=(10, 5))\n# plot granger causality from Y->X\nplt.subplot(121)\ngc_yx.plot.line(x='times', hue='stimulus')\nplt.title(r'Granger causality Y$\\rightarrow$X', fontweight='bold')\nplt.axvline(0, color='k', lw=2)\nplt.ylim(gc_min, gc_max)\n# plot the conditional granger causality from Y->X\nplt.subplot(122)\ngc_cond_yx.plot.line(x='times', hue='stimulus')\nplt.title(r'Conditional Granger causality Y$\\rightarrow$X|others',\n          fontweight='bold')\nplt.axvline(0, color='k', lw=2)\nplt.ylim(gc_min, gc_max)\nplt.tight_layout()\n\nplt.show()"
      ]
    }
  ],
  "metadata": {
    "kernelspec": {
      "display_name": "Python 3",
      "language": "python",
      "name": "python3"
    },
    "language_info": {
      "codemirror_mode": {
        "name": "ipython",
        "version": 3
      },
      "file_extension": ".py",
      "mimetype": "text/x-python",
      "name": "python",
      "nbconvert_exporter": "python",
      "pygments_lexer": "ipython3",
      "version": "3.8.18"
    }
  },
  "nbformat": 4,
  "nbformat_minor": 0
}