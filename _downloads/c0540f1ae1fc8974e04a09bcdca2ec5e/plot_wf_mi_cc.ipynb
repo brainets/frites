{
  "cells": [
    {
      "cell_type": "markdown",
      "metadata": {},
      "source": [
        "\n# MI between two continuous variables\n\nThis example illustrates how to compute the mutual information between two\ncontinuous variables and also perform statistics. Usually, the first variable\nis an electrophysiological data (M/EEG, intracranial) and a regressor. This\nkind of mutual information is equivalent to a traditional correlation. Note\nthat the regressor variable can either be univariate (single column) or\nmultivariate (multiple columns). For further details, see\nInce et al., 2017 :cite:`ince2017statistical`\n"
      ]
    },
    {
      "cell_type": "code",
      "execution_count": null,
      "metadata": {
        "collapsed": false
      },
      "outputs": [],
      "source": [
        "import numpy as np\n\nfrom frites.simulations import sim_multi_suj_ephy, sim_mi_cc\nfrom frites.dataset import DatasetEphy\nfrom frites.workflow import WfMi\nfrom frites import set_mpl_style\n\nimport matplotlib.pyplot as plt\nset_mpl_style()"
      ]
    },
    {
      "cell_type": "markdown",
      "metadata": {},
      "source": [
        "## Simulate electrophysiological data\n\nLet's start by simulating MEG / EEG electrophysiological data coming from\nmultiple subjects using the function\n:func:`frites.simulations.sim_multi_suj_ephy`. As a result, the `x` output\nis a list of length `n_subjects` of arrays, each one with a shape of\nn_epochs, n_sites, n_times\n\n"
      ]
    },
    {
      "cell_type": "code",
      "execution_count": null,
      "metadata": {
        "collapsed": false
      },
      "outputs": [],
      "source": [
        "modality = 'meeg'\nn_subjects = 5\nn_epochs = 400\nn_times = 100\nx, roi, time = sim_multi_suj_ephy(n_subjects=n_subjects, n_epochs=n_epochs,\n                                  n_times=n_times, modality=modality,\n                                  random_state=0)"
      ]
    },
    {
      "cell_type": "markdown",
      "metadata": {},
      "source": [
        "## Extract the regressor variable\n\nOnce we have the electrophysiological, we need to extract the second variable\nthat is going to serves for computing the \"correlation\" at each time point\nand at each site / channel / sensor. To do this, we can simply take the mean\nover time points and region of interest in a time window\n\n"
      ]
    },
    {
      "cell_type": "code",
      "execution_count": null,
      "metadata": {
        "collapsed": false
      },
      "outputs": [],
      "source": [
        "sl = slice(40, 60)\ny = [x[k][..., sl].mean(axis=(1, 2)) for k in range(len(x))]"
      ]
    },
    {
      "cell_type": "markdown",
      "metadata": {},
      "source": [
        "<div class=\"alert alert-info\"><h4>Note</h4><p>Taking the mean across time points and space is exactly the behavior of\n    the function :func:`frites.simulations.sim_mi_cc`</p></div>\n\n"
      ]
    },
    {
      "cell_type": "markdown",
      "metadata": {},
      "source": [
        "## Define the electrophysiological dataset\n\nNow we define an instance of :class:`frites.dataset.DatasetEphy`\n\n"
      ]
    },
    {
      "cell_type": "code",
      "execution_count": null,
      "metadata": {
        "collapsed": false
      },
      "outputs": [],
      "source": [
        "dt = DatasetEphy(x.copy(), y=y, roi=roi, times=time)"
      ]
    },
    {
      "cell_type": "markdown",
      "metadata": {},
      "source": [
        "## Compute the mutual information\n\nOnce we have the dataset instance, we can then define an instance of workflow\n:class:`frites.workflow.WfMi`. This instance is used to compute the mutual\ninformation\n\n"
      ]
    },
    {
      "cell_type": "code",
      "execution_count": null,
      "metadata": {
        "collapsed": false
      },
      "outputs": [],
      "source": [
        "# mutual information type ('cc' = continuous / continuous)\nmi_type = 'cc'\n\n# define the workflow\nwf = WfMi(mi_type, inference='ffx')\n# compute the mutual information without permutations\nmi, _ = wf.fit(dt, mcp=None)\n\n# plot the information shared between the data and the regressor y\nplt.plot(time, mi)\nplt.xlabel(\"Time (s)\"), plt.ylabel(\"MI (bits)\")\nplt.title('I(C; C)')\nplt.show()"
      ]
    },
    {
      "cell_type": "markdown",
      "metadata": {},
      "source": [
        "## Evaluate the statistics\n\nIn the section above, the input parameter `stat_method=None` specifies that\nno statistics are going to be computed. Here, we show how to compute either\nwithin (ffx) or between subject (rfx) statistics.\n\n"
      ]
    },
    {
      "cell_type": "code",
      "execution_count": null,
      "metadata": {
        "collapsed": false
      },
      "outputs": [],
      "source": [
        "mi_type = 'cc'\nn_perm = 200\ny, _ = sim_mi_cc(x, snr=.1)\n\n# within subject statistics (ffx=fixed-effect)\nffx_stat = 'ffx_cluster_tfce'\ndt_ffx = DatasetEphy(x.copy(), y=y, roi=roi, times=time)\nwf_ffx = WfMi(mi_type=mi_type, inference='ffx')\nmi_ffx, pv_ffx = wf_ffx.fit(dt_ffx, mcp='cluster', cluster_th='tfce',\n                            n_perm=n_perm, n_jobs=1)\n\n# between-subject statistics (rfx=random-effect)\ndt_rfx = DatasetEphy(x.copy(), y=y, roi=roi, times=time)\nwf_rfx = WfMi(mi_type=mi_type, inference='rfx')\nmi_rfx, pv_rfx = wf_rfx.fit(dt_rfx, mcp='cluster', cluster_th='tfce',\n                            n_perm=n_perm, n_jobs=1)\n\n# plot the comparison\nfig, axs = plt.subplots(nrows=2, ncols=2, sharex=True, sharey='row',\n                        figsize=(10, 8))\nfig.suptitle(\"Fixed-effect vs. Random-effect\")\n\nplt.sca(axs[0, 0])\nplt.plot(time, mi_ffx)\nplt.title(f\"Mutual information\\n(FFX / cluster / TFCE)\")\nplt.sca(axs[1, 0])\nplt.plot(time, pv_ffx)\nplt.xlabel(\"Time (s)\"), plt.ylabel(\"P-value\")\nplt.sca(axs[0, 1])\nplt.plot(time, mi_rfx)\nplt.title(f\"Mutual information\\n(RFX / cluster / TFCE)\")\nplt.sca(axs[1, 1])\nplt.plot(time, pv_rfx)\nplt.xlabel(\"Time (s)\"), plt.ylabel(\"P-value\")\nplt.show()"
      ]
    }
  ],
  "metadata": {
    "kernelspec": {
      "display_name": "Python 3",
      "language": "python",
      "name": "python3"
    },
    "language_info": {
      "codemirror_mode": {
        "name": "ipython",
        "version": 3
      },
      "file_extension": ".py",
      "mimetype": "text/x-python",
      "name": "python",
      "nbconvert_exporter": "python",
      "pygments_lexer": "ipython3",
      "version": "3.8.18"
    }
  },
  "nbformat": 4,
  "nbformat_minor": 0
}