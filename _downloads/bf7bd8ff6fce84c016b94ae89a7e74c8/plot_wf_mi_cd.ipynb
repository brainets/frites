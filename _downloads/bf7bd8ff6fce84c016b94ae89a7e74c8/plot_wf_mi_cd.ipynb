{
  "cells": [
    {
      "cell_type": "markdown",
      "metadata": {},
      "source": [
        "\n# MI between a continuous and a discret variables\n\nThis example illustrates how to compute the mutual information between a\ncontinuous and a discret variables. The first variable is an\nelectrophysiological data (M/EEG, intracranial). The discret variable, composed\nwith integers, can for example describe conditions. This type of mutual\ninformation is equivalent to was is performed in machine-learning. For further\ndetails, see Ince et al., 2017 :cite:`ince2017statistical`\n"
      ]
    },
    {
      "cell_type": "code",
      "execution_count": null,
      "metadata": {
        "collapsed": false
      },
      "outputs": [],
      "source": [
        "from frites.simulations import sim_multi_suj_ephy, sim_mi_cd\nfrom frites.dataset import DatasetEphy\nfrom frites.workflow import WfMi\nfrom frites import set_mpl_style\n\nimport matplotlib.pyplot as plt\nset_mpl_style()"
      ]
    },
    {
      "cell_type": "markdown",
      "metadata": {},
      "source": [
        "## Simulate electrophysiological data\n\nLet's start by simulating MEG / EEG electrophysiological data coming from\nmultiple subjects using the function\n:func:`frites.simulations.sim_multi_suj_ephy`. As a result, the `x` output\nis a list of length `n_subjects` of arrays, each one with a shape of\nn_epochs, n_sites, n_times\n\n"
      ]
    },
    {
      "cell_type": "code",
      "execution_count": null,
      "metadata": {
        "collapsed": false
      },
      "outputs": [],
      "source": [
        "modality = 'meeg'\nn_subjects = 5\nn_epochs = 400\nn_times = 100\nx, roi, time = sim_multi_suj_ephy(n_subjects=n_subjects, n_epochs=n_epochs,\n                                  n_times=n_times, modality=modality,\n                                  random_state=0)"
      ]
    },
    {
      "cell_type": "markdown",
      "metadata": {},
      "source": [
        "## Extract the discret variable\n\nAs explains in the top description, the discret variable is used to describes\nfor example conditions. Thus, by computing the mutual information between the\nelectrophysiological data and your discret variable, you are looking for\nrecording sites and time-points of data that correlates with conditions. This\nkind of analysis is similar to what is done in machine-learning. First,\nextract the conditions from the random dataset generated above.\n\n"
      ]
    },
    {
      "cell_type": "code",
      "execution_count": null,
      "metadata": {
        "collapsed": false
      },
      "outputs": [],
      "source": [
        "x, y, _ = sim_mi_cd(x, snr=1., n_conditions=3)\n# print the conditions for the single subject\nprint(y[0])"
      ]
    },
    {
      "cell_type": "markdown",
      "metadata": {},
      "source": [
        "## Define the electrophysiological dataset\n\nNow we define an instance of :class:`frites.dataset.DatasetEphy`\n\n"
      ]
    },
    {
      "cell_type": "code",
      "execution_count": null,
      "metadata": {
        "collapsed": false
      },
      "outputs": [],
      "source": [
        "dt = DatasetEphy(x, y=y, roi=roi, times=time)"
      ]
    },
    {
      "cell_type": "markdown",
      "metadata": {},
      "source": [
        "## Compute the mutual information\n\nOnce we have the dataset instance, we can then define an instance of workflow\n:class:`frites.workflow.WfMi`. This instance is used to compute the mutual\ninformation\n\n"
      ]
    },
    {
      "cell_type": "code",
      "execution_count": null,
      "metadata": {
        "collapsed": false
      },
      "outputs": [],
      "source": [
        "# mutual information type ('cd' = continuous / discret)\nmi_type = 'cd'\n\n# define the workflow\nwf = WfMi(mi_type=mi_type, verbose=False)\n# compute the mutual information\nmi, _ = wf.fit(dt, mcp=None, n_jobs=1)\n\n# plot the information shared between the data and the regressor y\nplt.plot(time, mi)\nplt.xlabel(\"Time (s)\"), plt.ylabel(\"MI (bits)\")\nplt.title('I(C; D)')\nplt.show()"
      ]
    }
  ],
  "metadata": {
    "kernelspec": {
      "display_name": "Python 3",
      "language": "python",
      "name": "python3"
    },
    "language_info": {
      "codemirror_mode": {
        "name": "ipython",
        "version": 3
      },
      "file_extension": ".py",
      "mimetype": "text/x-python",
      "name": "python",
      "nbconvert_exporter": "python",
      "pygments_lexer": "ipython3",
      "version": "3.8.18"
    }
  },
  "nbformat": 4,
  "nbformat_minor": 0
}