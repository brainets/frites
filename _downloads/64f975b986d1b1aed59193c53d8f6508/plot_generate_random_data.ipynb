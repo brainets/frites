{
  "cells": [
    {
      "cell_type": "markdown",
      "metadata": {},
      "source": [
        "\n# Generate random electrophysiological data\n\nThis example illustrates how to generate some random electrophysiological data,\neither for a single subject or multiple subjects.\n"
      ]
    },
    {
      "cell_type": "code",
      "execution_count": null,
      "metadata": {
        "collapsed": false
      },
      "outputs": [],
      "source": [
        "import numpy as np\n\nfrom frites.simulations import sim_single_suj_ephy, sim_multi_suj_ephy\nfrom frites import set_mpl_style\n\nimport matplotlib.pyplot as plt\nset_mpl_style()"
      ]
    },
    {
      "cell_type": "markdown",
      "metadata": {},
      "source": [
        "## Generate electrophysiological for a single subject\n\nHere we use the function :func:`frites.simulations.sim_single_suj_ephy` to\nsimulate data coming from a single subject. This function allows to define\narray with the following shape (n_epochs, n_sites, n_times) where `n_epochs`\nrefer to the number of trials, `n_sites` the number of channels / recording\nsites / sensors and `n_times` the number of time points.\n\nThe number of sites (`n_sites`) is defined using `n_roi` (number of region\nof interest) and `n_sites_per_roi`. Then n_sites = n_roi x n_sites_per_roi\n\nThis function also allow to simulate MEG / EEG data (`modality=\"meeg\"`) or\nintracranial data (`modality=\"intra\"`). The difference is that for\nintracranial data, the number of sites per region of interest (ROI) is also\nrandomized\n\n"
      ]
    },
    {
      "cell_type": "code",
      "execution_count": null,
      "metadata": {
        "collapsed": false
      },
      "outputs": [],
      "source": [
        "modality = 'meeg'\nn_epochs = 10\nn_roi = 2\nn_sites_per_roi = 1\nn_times = 100\ndata, roi, time = sim_single_suj_ephy(modality=modality, n_epochs=n_epochs,\n                                      n_roi=n_roi, n_times=n_times,\n                                      n_sites_per_roi=n_sites_per_roi)\nprint(f\"List of defined region of interest : {roi}\")\n\n\nplt.figure(figsize=(10, 8))\nplt.subplot(211)\nplt.plot(time, data[:, 0, :].T, color='lightgray')\nplt.plot(time, data[:, 0, :].mean(0), lw=3)\nplt.ylabel(\"Amplitude (uV)\")\nplt.title(f\"Data for {roi[0]}\")\nplt.autoscale(tight=True)\nplt.subplot(212)\nplt.plot(time, data[:, 1, :].T, color='lightgray')\nplt.plot(time, data[:, 1, :].mean(0), lw=3)\nplt.ylabel(\"Amplitude (uV)\")\nplt.xlabel('Time (s)')\nplt.title(f\"Data for {roi[1]}\")\nplt.autoscale(tight=True)\nplt.show()"
      ]
    },
    {
      "cell_type": "markdown",
      "metadata": {},
      "source": [
        "## Generate electrophysiological for multiple subjects\n\nSimilarly to the creation of a dataset for a single subject the function\n:func:`frites.simulations.sim_multi_suj_ephy` allows the creation of\nelectrophysiological datasets for multiple subjects. The returned dataset is\na list of length `n_subjects` composed with arrays of shape (n_epochs,\nn_sites, n_times)\n\n"
      ]
    },
    {
      "cell_type": "code",
      "execution_count": null,
      "metadata": {
        "collapsed": false
      },
      "outputs": [],
      "source": [
        "modality = 'meeg'\nn_subjects = 3\nn_epochs = 10\nn_roi = 1\nn_sites_per_roi = 1\nn_times = 100\ndata, roi, time = sim_multi_suj_ephy(modality=modality, n_epochs=n_epochs,\n                                     n_subjects=n_subjects, n_roi=n_roi,\n                                     n_times=n_times,\n                                     n_sites_per_roi=n_sites_per_roi)\n\nplt.figure(figsize=(10, 10))\nfor k in range(n_subjects):\n    plt.subplot(n_subjects, 1, k + 1)\n    plt.plot(time, data[k][:, 0, :].T, color='lightgray')\n    plt.plot(time, data[k][:, 0, :].mean(0), lw=3)\n    plt.ylabel(\"Amplitude (uV)\")\n    plt.title(f\"Data for subject {k}\")\n    plt.autoscale(tight=True)\nplt.show()"
      ]
    }
  ],
  "metadata": {
    "kernelspec": {
      "display_name": "Python 3",
      "language": "python",
      "name": "python3"
    },
    "language_info": {
      "codemirror_mode": {
        "name": "ipython",
        "version": 3
      },
      "file_extension": ".py",
      "mimetype": "text/x-python",
      "name": "python",
      "nbconvert_exporter": "python",
      "pygments_lexer": "ipython3",
      "version": "3.8.18"
    }
  },
  "nbformat": 4,
  "nbformat_minor": 0
}