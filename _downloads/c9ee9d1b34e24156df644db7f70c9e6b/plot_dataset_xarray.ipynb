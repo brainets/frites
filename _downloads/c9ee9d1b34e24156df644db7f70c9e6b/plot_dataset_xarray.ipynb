{
  "cells": [
    {
      "cell_type": "markdown",
      "metadata": {},
      "source": [
        "\n# Define an electrophysiological dataset using Xarray\n\nThis example illustrates how to define a dataset using Xarray. If you don't\nknow this library, we can simplify by saying that it provides containers that\naccept arrays but you can also labelize your dimensions. Another way of seeing\nit, pandas is mostly made for tables (i.e 2D arrays) while Xarray provide\nalmost the same functionalities but for multi-dimensional arrays.\n"
      ]
    },
    {
      "cell_type": "code",
      "execution_count": null,
      "metadata": {
        "collapsed": false
      },
      "outputs": [],
      "source": [
        "import numpy as np\nimport pandas as pd\n\nfrom xarray import DataArray\nfrom frites.dataset import DatasetEphy\nfrom frites import set_mpl_style\n\nimport matplotlib.pyplot as plt\nset_mpl_style()"
      ]
    },
    {
      "cell_type": "markdown",
      "metadata": {},
      "source": [
        "## Create artificial data\n\nWe start by creating some random data for several subjects. To do that, each\nsubject is going have a 3 dimensional array of shape\n(n_epochs, n_channels, n_times). Then, all of the arrays are grouped together\nin a list of length (n_subjects,)\n\n"
      ]
    },
    {
      "cell_type": "code",
      "execution_count": null,
      "metadata": {
        "collapsed": false
      },
      "outputs": [],
      "source": [
        "n_subjects = 5\nn_epochs = 10\nn_channels = 5\nn_times = 100\nsf = 512\n\nx, ch = [], []\nfor k in range(n_subjects):\n    # generate single subject data\n    x_suj = np.random.rand(n_epochs, n_channels, n_times)\n    # generate some random channel names\n    ch_suj = np.array([f\"ch_{r}\" for r in range(n_channels)])\n    # concatenate in a list\n    x.append(x_suj)\n    ch.append(ch_suj)\n# finally lets create a time vector\ntimes = np.arange(n_times) / sf\nepochs = np.arange(n_epochs)"
      ]
    },
    {
      "cell_type": "markdown",
      "metadata": {},
      "source": [
        "## Xarray conversion to DataArray\n\nHere, we convert the NumPy arrays to xarray.DataArray\n\n"
      ]
    },
    {
      "cell_type": "code",
      "execution_count": null,
      "metadata": {
        "collapsed": false
      },
      "outputs": [],
      "source": [
        "x_xr = []\nfor k in range(n_subjects):\n    # DataArray conversion\n    arr_xr = DataArray(x[k], dims=('epochs', 'channels', 'times'),\n                       coords=(epochs, ch[k], times))\n    # finally, replace it in the original list\n    x_xr.append(arr_xr)\nprint(x_xr[0])"
      ]
    },
    {
      "cell_type": "markdown",
      "metadata": {},
      "source": [
        "## Build the dataset\n\nFinally, we pass the data to the :class:`frites.dataset.DatasetEphy` class\nin order to create the dataset\n\n"
      ]
    },
    {
      "cell_type": "code",
      "execution_count": null,
      "metadata": {
        "collapsed": false
      },
      "outputs": [],
      "source": [
        "# here, we specify to the DatasetEphy class that the roi dimension is actually\n# called 'channels' in the DataArray and the times dimension is called 'times'\ndt = DatasetEphy(x_xr, roi='channels', times='times')\nprint(dt)\n\nprint('Time vector : ', dt.times)\nprint('ROI\\n: ', dt.df_rs)"
      ]
    },
    {
      "cell_type": "markdown",
      "metadata": {},
      "source": [
        "## MultiIndex support\n\nDataArray also supports multi-indexing of a single dimension.\n\n"
      ]
    },
    {
      "cell_type": "code",
      "execution_count": null,
      "metadata": {
        "collapsed": false
      },
      "outputs": [],
      "source": [
        "# create a continuous regressor (prediction error, delta P etc.)\ndp = np.random.uniform(-1, 1, (n_epochs,))\n# create a discret variable (e.g experimental conditions)\ncond = np.array([0] * 5 + [1] * 5)\n\n# now, create a multi-index using pandas\nmidx = pd.MultiIndex.from_arrays((dp, cond), names=('dp', 'blocks'))\n\n# convert again the original arrays but this time, the epoch dimension is going\n# to be a multi-index\nx_xr = []\nfor k in range(n_subjects):\n    # DataArray conversion\n    arr_xr = DataArray(x[k], dims=('epochs', 'channels', 'times'),\n                       coords=(midx, ch[k], times))\n    # finally, replace it in the original list\n    x_xr.append(arr_xr)\nprint(x_xr[0])\n\n# finally, when you create your dataset you can also specify the y and z inputs\n# by providing their names in the DataArray\ndt = DatasetEphy(x_xr, roi='channels', times='times', y='dp', z='blocks')\nprint(dt)"
      ]
    }
  ],
  "metadata": {
    "kernelspec": {
      "display_name": "Python 3",
      "language": "python",
      "name": "python3"
    },
    "language_info": {
      "codemirror_mode": {
        "name": "ipython",
        "version": 3
      },
      "file_extension": ".py",
      "mimetype": "text/x-python",
      "name": "python",
      "nbconvert_exporter": "python",
      "pygments_lexer": "ipython3",
      "version": "3.8.18"
    }
  },
  "nbformat": 4,
  "nbformat_minor": 0
}