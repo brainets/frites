{
  "cells": [
    {
      "cell_type": "markdown",
      "metadata": {},
      "source": [
        "\n# Estimator comparison\n\nThis example compares implemented estimators for continuous variables.\n"
      ]
    },
    {
      "cell_type": "code",
      "execution_count": null,
      "metadata": {
        "collapsed": false
      },
      "outputs": [],
      "source": [
        "import numpy as np\nimport pandas as pd\n\nfrom frites.estimator import (GCMIEstimator, BinMIEstimator, CorrEstimator,\n                              DcorrEstimator)\nfrom frites import set_mpl_style\n\nimport matplotlib.pyplot as plt\nfrom matplotlib.lines import Line2D\nset_mpl_style()"
      ]
    },
    {
      "cell_type": "markdown",
      "metadata": {},
      "source": [
        "## Functions for data simulation\n\nThis first part contains functions used for simulating data.\n\n"
      ]
    },
    {
      "cell_type": "code",
      "execution_count": null,
      "metadata": {
        "collapsed": false
      },
      "outputs": [],
      "source": [
        "def gen_mv_normal(n, cov):\n    \"\"\"Generate multi-variate normals.\"\"\"\n    sd = np.array([[1, cov], [cov, 1]])\n    mean = np.array([0, 0])\n    xy = np.random.multivariate_normal(mean, sd, size=n)\n    xy += np.random.rand(*xy.shape) / 1000.\n    x = xy[:, 0]\n    y = xy[:, 1]\n    return x, y\n\n\ndef rotate(xy, t):\n    \"\"\"Distribution rotation.\"\"\"\n    rot = np.array([[np.cos(t), np.sin(t)], [-np.sin(t), np.cos(t)]]).T\n    return np.dot(xy, rot)\n\n\ndef generate_data(n, idx):\n    \"\"\"Generate simulated data.\"\"\"\n    x = np.linspace(-1, 1, n)\n    mv_covs = [1.0, 0.8, 0.4, 0.0, -0.4, -0.8, -1.0]\n\n    if idx in np.arange(7):  # multi-variate\n        x, y = gen_mv_normal(n, mv_covs[idx])\n        name = f'Multivariate (cov={mv_covs[idx]})'\n        xlim = ylim = [-5, 5]\n    elif idx == 7:  # curvy\n        r = (np.random.random(n) * 2) - 1\n        y = 4.0 * (x ** 2 - 0.5) ** 2 + (r / 3)\n        name = 'Curvy'\n        xlim, ylim = [-1, 1], [-1 / 3.0, 1 + (1 / 3.0)]\n    if idx == 8:  # rotated uniform\n        y = np.random.random(n) * 2 - 1\n        xy = rotate(np.c_[x, y], -np.pi / 8.0)\n        lim = np.sqrt(2 + np.sqrt(2)) / np.sqrt(2)\n        x, y = xy[:, 0], xy[:, 1]\n        name = 'Rotated uniform (1)'\n        xlim = ylim = [-lim, lim]\n    if idx == 9:  # rotated uniform\n        y = np.random.random(n) * 2 - 1\n        xy = rotate(np.c_[x, y], -np.pi / 4.0)\n        lim = np.sqrt(2)\n        x, y = xy[:, 0], xy[:, 1]\n        name = 'Rotated uniform (2)'\n        xlim = ylim = [-lim, lim]\n    if idx == 10:  # smile\n        r = (np.random.random(n) * 2) - 1\n        y = 2 * (x ** 2) + r\n        xlim, ylim = [-1, 1], [-1, 3]\n        name = 'Smile'\n    if idx == 11:  # mirrored smile\n        r = np.random.random(n) / 2.0\n        y = x ** 2 + r\n        flipidx = np.random.permutation(len(y))[:int(n / 2)]\n        y[flipidx] = -y[flipidx]\n        name = 'Mirrored smile'\n        xlim, ylim = [-1.5, 1.5], [-1.5, 1.5]\n    if idx == 12:  # circle\n        r = np.random.normal(0, 1 / 8.0, n)\n        y = np.cos(x * np.pi) + r\n        r = np.random.normal(0, 1 / 8.0, n)\n        x = np.sin(x * np.pi) + r\n        name = 'Circle'\n        xlim, ylim = [-1.5, 1.5], [-1.5, 1.5]\n    if idx == 13:  # 4 clusters\n        sd = np.array([[1, 0], [0, 1]])\n        xy1 = np.random.multivariate_normal([3, 3], sd, int(n / 4))\n        xy2 = np.random.multivariate_normal([-3, 3], sd, int(n / 4))\n        xy3 = np.random.multivariate_normal([-3, -3], sd, int(n / 4))\n        xy4 = np.random.multivariate_normal([3, -3], sd, int(n / 4))\n        xy = np.r_[xy1, xy2, xy3, xy4]\n        x, y = xy[:, 0], xy[:, 1]\n        name = '4 clusters'\n        xlim = ylim = [-7, 7]\n\n    return name, x, y, xlim, ylim"
      ]
    },
    {
      "cell_type": "markdown",
      "metadata": {},
      "source": [
        "## Plot the simulated data\n\nIn this section, we plot several scenarios of relation between a variable `x`\nand a variable `y`. The scenarios involve linear, non-linear, monotonic and\nnon-monotonic relations.\n\n"
      ]
    },
    {
      "cell_type": "code",
      "execution_count": null,
      "metadata": {
        "collapsed": false
      },
      "outputs": [],
      "source": [
        "# number of points\nn = 10000\n\n# plot the data\nfig_data = plt.figure(figsize=(7, 9))\nfor i in range(14):\n    name, x, y, xlim, ylim = generate_data(n, i)\n\n    plt.subplot(7, 2, i + 1)\n    ax = plt.gca()\n    ax.scatter(x, y, s=5, edgecolors='none', alpha=.5)\n    plt.xlim(xlim)\n    plt.ylim(ylim)\n    plt.title(name)\n    ax.axis(False)\n\nfig_data.tight_layout()\nplt.show()"
      ]
    },
    {
      "cell_type": "markdown",
      "metadata": {},
      "source": [
        "## Computes information shared\n\nIn this final section, we compute the amount of information shared between\nthe `x` and `y` variables using different estimators.\n\n"
      ]
    },
    {
      "cell_type": "code",
      "execution_count": null,
      "metadata": {
        "collapsed": false
      },
      "outputs": [],
      "source": [
        "# define estimators\nestimators = {\n    'GCMI': GCMIEstimator(mi_type='cc', biascorrect=True),\n    'Binning MI': BinMIEstimator(mi_type='cc'),\n    'Correlation': CorrEstimator(),\n    'Distance correlation': DcorrEstimator()\n}\n\n\nfig_info, axs = plt.subplots(\n    nrows=7, ncols=2, sharex=True, sharey=True, figsize=(5, 9),\n    gridspec_kw=dict(wspace=.4, hspace=.3, bottom=.05, top=.95, ))\naxs = np.ravel(axs)\n\nfor i in range(14):\n    name, x, y, _, _ = generate_data(n, i)\n\n    ax = axs[i]\n    plt.sca(ax)\n\n    # computes information shared\n    for n_e, (est_name, est) in enumerate(estimators.items()):\n        info = float(est.estimate(x, y).squeeze())\n        plt.bar(n_e, info, color=f\"C{n_e}\")\n\n    ax.tick_params(axis='x', which='both', bottom=False, labelbottom=False)\n    plt.title(name, fontsize=12)\n\n# add the legend\nplt.sca(axs[-2])\nlines, names = [], []\nfor n_i, n in enumerate(estimators.keys()):\n    lines.append(Line2D([0], [0], color=f\"C{n_i}\", lw=3))\n    names.append(n)\nplt.legend(lines, names, ncol=2, bbox_to_anchor=(.8, .05),\n           fontsize=9, bbox_transform=fig_info.transFigure)\n\nplt.show()"
      ]
    }
  ],
  "metadata": {
    "kernelspec": {
      "display_name": "Python 3",
      "language": "python",
      "name": "python3"
    },
    "language_info": {
      "codemirror_mode": {
        "name": "ipython",
        "version": 3
      },
      "file_extension": ".py",
      "mimetype": "text/x-python",
      "name": "python",
      "nbconvert_exporter": "python",
      "pygments_lexer": "ipython3",
      "version": "3.8.18"
    }
  },
  "nbformat": 4,
  "nbformat_minor": 0
}