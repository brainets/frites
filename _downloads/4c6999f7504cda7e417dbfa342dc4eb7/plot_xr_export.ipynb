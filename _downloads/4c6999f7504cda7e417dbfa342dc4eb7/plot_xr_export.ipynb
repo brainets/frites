{
  "cells": [
    {
      "cell_type": "markdown",
      "metadata": {},
      "source": [
        "\n# Xarray : Saving the results\n\nThis example illustrates how to export and load your results. In details, we\nare going to show how to save and reload a single DataArray such as a Dataset.\n"
      ]
    },
    {
      "cell_type": "code",
      "execution_count": null,
      "metadata": {
        "collapsed": false
      },
      "outputs": [],
      "source": [
        "import numpy as np\nimport xarray as xr\nimport pandas as pd\nfrom time import sleep"
      ]
    },
    {
      "cell_type": "markdown",
      "metadata": {},
      "source": [
        "## Simulate data\n\nlets start by creating two random spatio-temporal arrays\n\n"
      ]
    },
    {
      "cell_type": "code",
      "execution_count": null,
      "metadata": {
        "collapsed": false
      },
      "outputs": [],
      "source": [
        "n_times = 30\nn_roi = 7\ntimes_vec = np.linspace(-1, 1, n_times)\nroi_vec = np.array([f\"roi_{k}\" for k in range(n_roi)])\n\n# xarray.DataArray conversion\narr_1 = xr.DataArray(np.random.rand(n_times, n_roi), dims=('times', 'roi'),\n                     coords=(times_vec, roi_vec))\narr_2 = xr.DataArray(np.random.rand(n_times, n_roi), dims=('times', 'roi'),\n                     coords=(times_vec, roi_vec))\n\n# just add a few attributes to each array\narr_1.attrs['desc'] = \"This is my first array\"\narr_1.attrs['sf'] = 1024.\narr_2.attrs['desc'] = \"This is my second array\"\narr_2.attrs['sf'] = 512.\n\n# note that you can also concatenate DataArray\narr_cat = xr.concat([arr_1, arr_2], 'roi')"
      ]
    },
    {
      "cell_type": "markdown",
      "metadata": {},
      "source": [
        "## Export and load a single DataArray\n\nnow we're going to save a single array and then reload it\n\n"
      ]
    },
    {
      "cell_type": "code",
      "execution_count": null,
      "metadata": {
        "collapsed": false
      },
      "outputs": [],
      "source": [
        "# export a single array\narr_1.to_netcdf(\"first_array.nc\")\n\n# delete it\ndel arr_1\nsleep(3)\n\n# reload it\narr_1 = xr.load_dataarray(\"first_array.nc\")\nprint(arr_1)"
      ]
    },
    {
      "cell_type": "markdown",
      "metadata": {},
      "source": [
        "## Export and load multiple DataArrays\n\nit's also possible to export and reload multiple DataArrays at once. To do\nit, you can use a Dataset which is a container of DataArrays\n\n"
      ]
    },
    {
      "cell_type": "code",
      "execution_count": null,
      "metadata": {
        "collapsed": false
      },
      "outputs": [],
      "source": [
        "# create a dataset\ndat = xr.Dataset({'first': arr_1, 'second': arr_2})\n\n# you can also slice the dataset and also add attributes to it\ndat.attrs['desc'] = 'This is my dataset'\ndat.attrs['sf'] = 256.\n\n# export your dataset\ndat.to_netcdf('full_dataset.nc')\n\n# delete it\ndel dat\nsleep(3)\n\n# reload it\ndat = xr.load_dataset(\"full_dataset.nc\")\nprint(dat)\n\n# finally, accessing array of a dataset is similar of using dictionary\narr_1 = dat['first']\narr_2 = dat['second']"
      ]
    }
  ],
  "metadata": {
    "kernelspec": {
      "display_name": "Python 3",
      "language": "python",
      "name": "python3"
    },
    "language_info": {
      "codemirror_mode": {
        "name": "ipython",
        "version": 3
      },
      "file_extension": ".py",
      "mimetype": "text/x-python",
      "name": "python",
      "nbconvert_exporter": "python",
      "pygments_lexer": "ipython3",
      "version": "3.8.18"
    }
  },
  "nbformat": 4,
  "nbformat_minor": 0
}