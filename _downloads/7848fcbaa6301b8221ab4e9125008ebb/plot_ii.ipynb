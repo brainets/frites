{
  "cells": [
    {
      "cell_type": "markdown",
      "metadata": {},
      "source": [
        "\n# Estimate interaction information\n\nThis example illustrates how to compute the interaction information (II) to\ninvestigate if pairs of brain regions are mainly carrying redundant or\nsynergistic information about task-related variables (e.g. stimulus type,\noutcomes, learning rate etc.)\n"
      ]
    },
    {
      "cell_type": "code",
      "execution_count": null,
      "metadata": {
        "collapsed": false
      },
      "outputs": [],
      "source": [
        "import numpy as np\nimport xarray as xr\n\nfrom frites.simulations import sim_single_suj_ephy\nfrom frites.conn import conn_ii\n\nfrom frites import set_mpl_style\n\nimport matplotlib.pyplot as plt\nset_mpl_style()"
      ]
    },
    {
      "cell_type": "markdown",
      "metadata": {},
      "source": [
        "## Introduce redundant and synergistic informations\n\nNo we can inject in the simulated data redundancy and synergy. We first start\nby defining a task-related variable (e.g. the learning rate) and we will\nthen inject this variable into the two first brain regions to simulate\nredundant coding. Then, to simulate synergy, we will inject half of the\ntrials of the learning rate into one brain region and the other half of\ntrials to a different brain region. That way, the two brain regions are going\nto be needed to fully decode the learning rate which is going to be reflected\nby synergistic interactions.\n\n"
      ]
    },
    {
      "cell_type": "code",
      "execution_count": null,
      "metadata": {
        "collapsed": false
      },
      "outputs": [],
      "source": [
        "# simulate the brain data\nn_roi = 4\nn_epochs = 200\nn_times = 1000\nx = np.random.rand(n_epochs, n_roi, n_times)\n\n# let's start by defining the task-related variable\ny = np.random.rand(n_epochs)\n\n# reshape it to inject it inside the different brain regions\ny_repeated = np.tile(y.reshape(-1, 1), (1, 100))\ny_repeated *= np.hanning(y_repeated.shape[-1]).reshape(1, -1)\n\n# inject y inside the first and second brain regions to introduce redundancy\n# between them\nt_half = int(np.round(n_times / 2))\nx[:, 0, t_half - 50:t_half + 50] += y_repeated\nx[:, 1, t_half - 50:t_half + 50] += y_repeated\n\n# now, inject half of the trials inside the third brain region and the second\n# half of the trils in the fourth region. That way, we'll introduce synergy\n# between them as the two brain regions are going o be needed to fully decode\n# y\nx[0:50:, 2, t_half - 50:t_half + 50] += y_repeated[0:50, ...]\nx[50::, 3, t_half - 50:t_half + 50] += y_repeated[50::, ...]\n\n# finally, merge everything inside a data array\ntimes = (np.arange(n_times) - t_half + 50) / 512.\nroi = ['roi_1', 'roi_2', 'roi_3', 'roi_4']\nx = xr.DataArray(x, dims=('trials', 'roi', 'times'), coords=(y, roi, times))"
      ]
    },
    {
      "cell_type": "markdown",
      "metadata": {},
      "source": [
        "## Compute the interaction information\n\nNow, we can estimate the interaction information. The II reflects whether\npairs of brain regions are mainly carrying the same (i.e. redundant)\ninformation about the behavior or, if they are carrying complementary\n(i.e. synergy) information. Synergy is represented by a positive II and\nredundancy by a negative II.\n\n"
      ]
    },
    {
      "cell_type": "code",
      "execution_count": null,
      "metadata": {
        "collapsed": false
      },
      "outputs": [],
      "source": [
        "# compute the II\nii = conn_ii(\n    x, 'trials', roi='roi', times='times', mi_type='cc'\n)\nprint(ii)\n\n# plot the result\nfg = ii.plot(x='times', col='roi', col_wrap=3, size=4)\nminmax = max(abs(ii.data.min()), abs(ii.data.max()))\nplt.ylim(-minmax, minmax)\n_ = [ax.axvline(0., color='C3') for ax in np.ravel(fg.axs)]\nplt.gcf().suptitle(\n    \"Interaction information (II, in bits) of pairs of brain regions about y\",\n    fontsize=20, fontweight='bold', y=1.02)\nplt.show()"
      ]
    },
    {
      "cell_type": "markdown",
      "metadata": {},
      "source": [
        "As we see in the results :\n- The II between roi_1 and roi_2 is redundant (II < 0)\n- The II between roi_3 and roi_4 is synergistic (II > 0)\n- The remaining pairs of brain regions are mainly carrying slightly redundant\n  information\n\n"
      ]
    }
  ],
  "metadata": {
    "kernelspec": {
      "display_name": "Python 3",
      "language": "python",
      "name": "python3"
    },
    "language_info": {
      "codemirror_mode": {
        "name": "ipython",
        "version": 3
      },
      "file_extension": ".py",
      "mimetype": "text/x-python",
      "name": "python",
      "nbconvert_exporter": "python",
      "pygments_lexer": "ipython3",
      "version": "3.8.18"
    }
  },
  "nbformat": 4,
  "nbformat_minor": 0
}