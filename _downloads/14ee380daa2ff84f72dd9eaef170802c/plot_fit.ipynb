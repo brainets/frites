{
  "cells": [
    {
      "cell_type": "markdown",
      "metadata": {},
      "source": [
        "\n# FIT: Feature specific information transfer\n\nThis example illustrates how to compute Feature-specific Information\nTransfer (FIT), quantifying how much information about a specific\nfeature flows between two regions. FIT merges the Wiener-Granger causality\nprinciple with information-content specificity.\nThe theoretical background is described in [1] and the FIT is computed\nusing the :func:`frites.conn.conn_fit` function.\n[1] Celotto M, B\u00edm J, Tlaie A, De Feo V, Toso A, Lemke SM, Chicharro D,\nNili H, Bieler M, Hanganu-Opatz IL, Donner TH, Brovelli A, Panzeri S\n(2023). An information-theoretic quantification of the content of\ncommunication between brain regions. Advances in Neural Information\nProcessing Systems (NeurIPS), 36, 64213-64265\n"
      ]
    },
    {
      "cell_type": "code",
      "execution_count": null,
      "metadata": {
        "collapsed": false
      },
      "outputs": [],
      "source": [
        "import numpy as np\nimport xarray as xr\n\nfrom frites.simulations import StimSpecAR\nfrom frites.conn import conn_fit\n\nfrom frites import set_mpl_style\n\nimport matplotlib.pyplot as plt\nset_mpl_style()"
      ]
    },
    {
      "cell_type": "markdown",
      "metadata": {},
      "source": [
        "## Data simulation\n\nHere, we use an auto-regressive simulating a gamma increase.\n\n"
      ]
    },
    {
      "cell_type": "code",
      "execution_count": null,
      "metadata": {
        "collapsed": false
      },
      "outputs": [],
      "source": [
        "net = False\navg_delay = False\nar_type = 'hga'\nn_stim = 3\nn_epochs = 400\n\nss = StimSpecAR()\nar = ss.fit(ar_type=ar_type, n_epochs=n_epochs, n_stim=n_stim, random_state=0)\n\nprint(ar)\n\nplt.figure(figsize=(7, 8))\nss.plot(cmap='bwr')\nplt.tight_layout()\nplt.show()"
      ]
    },
    {
      "cell_type": "markdown",
      "metadata": {},
      "source": [
        "## Compute Feature specific information transfer\n\nNow we can use the simulated data to estimate the FIT.\n\n"
      ]
    },
    {
      "cell_type": "code",
      "execution_count": null,
      "metadata": {
        "collapsed": false
      },
      "outputs": [],
      "source": [
        "# Compute the FIT\n\nfit = conn_fit(ar, y='trials', roi='roi', times='times', mi_type='cd',\n               max_delay=.3, net=net, verbose=False, avg_delay=avg_delay)\n\n# Plot the results\nfit.plot(x='times', col='roi')  # net = False\n\nplt.show()"
      ]
    }
  ],
  "metadata": {
    "kernelspec": {
      "display_name": "Python 3",
      "language": "python",
      "name": "python3"
    },
    "language_info": {
      "codemirror_mode": {
        "name": "ipython",
        "version": 3
      },
      "file_extension": ".py",
      "mimetype": "text/x-python",
      "name": "python",
      "nbconvert_exporter": "python",
      "pygments_lexer": "ipython3",
      "version": "3.8.18"
    }
  },
  "nbformat": 4,
  "nbformat_minor": 0
}