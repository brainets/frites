{
  "cells": [
    {
      "cell_type": "markdown",
      "metadata": {},
      "source": [
        "\n# Xarray : Quick tour\n\nBasically, this example gives a very small introduction to Xarray (very small).\nWe illustrate how to define a DataArray container, access its components,\nperform some of the basic operations and slicing / indexing.\n"
      ]
    },
    {
      "cell_type": "code",
      "execution_count": null,
      "metadata": {
        "collapsed": false
      },
      "outputs": [],
      "source": [
        "import numpy as np\nimport xarray as xr\nimport pandas as pd"
      ]
    },
    {
      "cell_type": "markdown",
      "metadata": {},
      "source": [
        "## Simulate data\n\nlets start by creating a random spatio-temporal array\n\n"
      ]
    },
    {
      "cell_type": "code",
      "execution_count": null,
      "metadata": {
        "collapsed": false
      },
      "outputs": [],
      "source": [
        "n_times = 30\nn_roi = 7\ntimes_vec = np.linspace(-1, 1, n_times)\nroi_vec = np.array([f\"roi_{k}\" for k in range(n_roi)])\nnp_data = np.random.rand(n_times, n_roi)\nprint(np_data.shape)\nprint('*' * 79)"
      ]
    },
    {
      "cell_type": "markdown",
      "metadata": {},
      "source": [
        "## Xarray conversion and access to the internal components\n\nA DataArray is a container (like a well known numpy array) except that you\ncan add a label to each coordinate. To this end, the input `dims` is a tuple\nthat describes the dimension names and `coords` describes the value along\nthis coordinate\n\n"
      ]
    },
    {
      "cell_type": "code",
      "execution_count": null,
      "metadata": {
        "collapsed": false
      },
      "outputs": [],
      "source": [
        "# let's convert it to a DataArray\nda_data = xr.DataArray(np_data, dims=('times', 'roi'),\n                       coords=(times_vec, roi_vec))\nprint(da_data.shape)\nprint(da_data)\nprint('*' * 79)\n\n# if you want to get the dimension names and values\nprint(f'Dimension names : {da_data.dims}')\nprint(f'Dimension values : {da_data.coords}')\nprint(f\"Data of a specific dimension : {da_data.roi.data}\")\nprint('*' * 79)\n\n# if you want to get the original NumPy array enter the following :\nda_data.data\n\n# if you want to change the values of a coordinate\nda_data['roi'] = np.array([f\"roi_{k % 3}\" for k in range(n_roi)])\nprint(f\"New ROI names : {da_data.roi.data}\")\nprint('*' * 79)\n\n# if you need to compute or get the min / max / mean across a specific\n# dimension\nda_data.min('times')  # minimum across time points\nda_data.max('times')  # maximum across time points\nda_data.mean('roi')   # mean across all ROI\n\n# similarly to Pandas, it's also possible to group along a dimension and then\n# take the mean. For example, here's how to group and mean by roi names\nda_m = da_data.groupby('roi').mean('roi')\nprint(da_m)\nprint('*' * 79)"
      ]
    },
    {
      "cell_type": "markdown",
      "metadata": {},
      "source": [
        "## Xarray slicing and indexing\n\nNow we show how to slice the container\n\n"
      ]
    },
    {
      "cell_type": "code",
      "execution_count": null,
      "metadata": {
        "collapsed": false
      },
      "outputs": [],
      "source": [
        "# select a single specific ROI based on it's name\nda_data.sel(roi='roi_0')\n\n# select a time range\nda_time_slice = da_data.sel(times=slice(-.5, .5))\nprint(f\"Temporal selection : {da_time_slice.coords}\")\nprint('*' * 79)\n\n# off course, spatio-temporal selection is also supported\nda_st = da_data.sel(times=slice(-.5, .5), roi='roi_1')\nprint(f\"Spatio-temporal selection : {da_st.coords}\")\nprint('*' * 79)\n\n# you can also slice according to indices\nda_isel = da_data.isel(times=slice(10, 20))\nprint(f\"Integer selection : {da_isel.coords}\")\nprint('*' * 79)\n\n# however, if you want for example select multiple items based on their names,\n# you have to use booleans. Here's a small example that's using Pandas\nroi = da_data.roi.data\nuse_roi = ['roi_0', 'roi_2']\nis_roi = pd.Series(roi).str.contains('|'.join(use_roi))\nda_mi = da_data.isel(roi=is_roi)\nprint(f\"Multi-items selection : {da_mi.coords}\")"
      ]
    },
    {
      "cell_type": "markdown",
      "metadata": {},
      "source": [
        "## Xarray attributes\n\nOne of the nice features of DataArray is that it supporting setting\nattributes. Therefore you can add, for example, the parameters that describe\nyour analysis\n\n"
      ]
    },
    {
      "cell_type": "code",
      "execution_count": null,
      "metadata": {
        "collapsed": false
      },
      "outputs": [],
      "source": [
        "# adding a few string attributes\nda_data.attrs['inference'] = 'ffx'\nda_data.attrs['stats'] = 'cluster-based'\nda_data.attrs['description'] = \"\"\"Here's a small description of the analysis\nI'm currently running. Trying to find a difference between condition 1. vs 2.\n\"\"\"\n\n# you can also add vectors (but not arrays) to the attributes\nda_data.attrs['vector'] = np.arange(30)\n\n# however, \"None\" seems to pose a problem when saving the results. Therefore,\n# one quick way to solve this is simply to convert it into a string\nda_data.attrs['none_problem'] = str(None)\n\nprint(da_data)"
      ]
    },
    {
      "cell_type": "markdown",
      "metadata": {},
      "source": [
        "## Xarray to an other format\n\nFinally, we quickly illustrate how to convert a DataArray into, for example,\na pandas.DataFrame\n\n"
      ]
    },
    {
      "cell_type": "code",
      "execution_count": null,
      "metadata": {
        "collapsed": false
      },
      "outputs": [],
      "source": [
        "print(da_data.to_pandas())"
      ]
    }
  ],
  "metadata": {
    "kernelspec": {
      "display_name": "Python 3",
      "language": "python",
      "name": "python3"
    },
    "language_info": {
      "codemirror_mode": {
        "name": "ipython",
        "version": 3
      },
      "file_extension": ".py",
      "mimetype": "text/x-python",
      "name": "python",
      "nbconvert_exporter": "python",
      "pygments_lexer": "ipython3",
      "version": "3.8.18"
    }
  },
  "nbformat": 4,
  "nbformat_minor": 0
}