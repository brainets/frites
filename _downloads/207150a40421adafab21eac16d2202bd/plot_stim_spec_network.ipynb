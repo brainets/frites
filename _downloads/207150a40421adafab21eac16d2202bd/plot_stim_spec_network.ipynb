{
  "cells": [
    {
      "cell_type": "markdown",
      "metadata": {},
      "source": [
        "\n# Statistical analysis of a stimulus-specific network\n\nIn this tutorial we illustrate how to analyze a stimulus-specific network i.e\nfirst if the nodes of the network present an activity that is modulated\naccording to a stimulus (for example two conditions) and second, if the\nconnectivity strength (i.e the links between the nodes) is also modulated by\nthe stimulus.\n"
      ]
    },
    {
      "cell_type": "code",
      "execution_count": null,
      "metadata": {
        "collapsed": false
      },
      "outputs": [],
      "source": [
        "import numpy as np\nimport xarray as xr\n\nfrom frites.simulations import StimSpecAR\nfrom frites.dataset import DatasetEphy\nfrom frites.workflow import WfMi\nfrom frites.conn import conn_dfc, define_windows, conn_covgc\nfrom frites import set_mpl_style\n\nimport matplotlib.pyplot as plt\nset_mpl_style()"
      ]
    },
    {
      "cell_type": "markdown",
      "metadata": {},
      "source": [
        "## Simulate a stimulus-specific network\n\nFirst, lets simulate a three nodes network using an autoregressive model.\nIn this three nodes network, the simulated high-gamma activity of nodes X and\nY are going to be modulated by the stimulus, such as the information sent\nfrom X->Y\n\n"
      ]
    },
    {
      "cell_type": "code",
      "execution_count": null,
      "metadata": {
        "collapsed": false
      },
      "outputs": [],
      "source": [
        "\"\"\"\nProperties of the network :\n\n    * ar_type = type of the model. Here, we use 'hga' which simulate a two\n      nodes network (X->Y) of high-gamma activity\n    * n_subjects = number of subjects to simulate\n    * n_stim = number of categories (e.g each category could correspond to an\n      experimental condition)\n    * n_epochs = number of trials / epochs in each condition\n    * n_std = control the number of standard deviation the true signal is\n      exceeding the noise (SNR)\n\"\"\"\nar_type = 'hga'\nn_subjects = 5\nn_stim = 2\nn_epochs = 100\nn_std = 1\n\nss_obj = StimSpecAR()\n# generate the data\nx = []\nfor n_s in range(n_subjects):\n    # generate nodes x and y\n    _x = ss_obj.fit(ar_type=ar_type, n_epochs=n_epochs, n_stim=n_stim,\n                    n_std=n_std, random_state=n_s)\n    trials, times = _x['trials'].data, _x['times'].data\n    # generate pure noise node z\n    rnd = np.random.RandomState(n_s)\n    _z = rnd.uniform(-.5, .5, (len(trials), 1, len(times)))\n    _z = xr.DataArray(_z, dims=('trials', 'roi', 'times'),\n                      coords=(trials, np.array(['z']), times))\n    # concatenate the three nodes\n    _x = xr.concat((_x, _z), 'roi')\n\n    x += [_x]\n\n# get times and roi\ntimes = _x['times'].data\nroi = _x['roi'].data"
      ]
    },
    {
      "cell_type": "markdown",
      "metadata": {},
      "source": [
        "Plot the mean activity per node and per condition. The activity is\nconcatenated across subjects.\n\n"
      ]
    },
    {
      "cell_type": "code",
      "execution_count": null,
      "metadata": {
        "collapsed": false
      },
      "outputs": [],
      "source": [
        "x_suj = xr.concat(x, 'trials').groupby('trials').mean('trials')\nx_suj.plot.line(x='times', hue='trials', col='roi')\nplt.show()"
      ]
    },
    {
      "cell_type": "markdown",
      "metadata": {},
      "source": [
        "## Stimulus-specificity of the nodes of the network\n\nIn order to determine if the activity of each node is modulated according\nto the stimulus, we then compute the mutual information between the\nhigh-gamma and the stimulus variable.\n\n"
      ]
    },
    {
      "cell_type": "code",
      "execution_count": null,
      "metadata": {
        "collapsed": false
      },
      "outputs": [],
      "source": [
        "# define an electrophysiological dataset\nds = DatasetEphy(x.copy(), y='trials', times='times', roi='roi')\n# define a workflow of mutual information\nwf = WfMi(mi_type='cd', inference='rfx')\n# run the workflow\nmi, pv = wf.fit(ds, n_perm=200, n_jobs=1, random_state=0)"
      ]
    },
    {
      "cell_type": "markdown",
      "metadata": {},
      "source": [
        "define the MI plotting function\n\n"
      ]
    },
    {
      "cell_type": "code",
      "execution_count": null,
      "metadata": {
        "collapsed": false
      },
      "outputs": [],
      "source": [
        "def plot_mi(mi, pv):\n    # figure definition\n    n_subs = len(mi['roi'].data)\n    space_single_sub = 4\n    fig, gs  = plt.subplots(1, 3, sharex='all', sharey='all',\n                            figsize=(n_subs * space_single_sub, 4))\n\n    for n_r, r in enumerate(mi['roi'].data):\n        # select mi and p-values for a single roi\n        mi_r, pv_r = mi.sel(roi=r), pv.sel(roi=r)\n        # set to nan when it's not significant\n        mi_r_s = mi_r.copy()\n        mi_r_s[pv_r >= .05] = np.nan\n\n        # significant = red; non-significant = black\n        plt.sca(gs[n_r])\n        plt.plot(mi['times'].data, mi_r, lw=1, color='k')\n        plt.plot(mi['times'].data, mi_r_s, lw=3, color='red')\n        plt.xlabel('Times'), plt.ylabel('MI (bits)')\n        plt.title(f\"ROI={r}\")\n        plt.axvline(0, lw=2, color='k')\n\n    return plt.gcf()"
      ]
    },
    {
      "cell_type": "markdown",
      "metadata": {},
      "source": [
        "plot the mi\n\n"
      ]
    },
    {
      "cell_type": "code",
      "execution_count": null,
      "metadata": {
        "collapsed": false
      },
      "outputs": [],
      "source": [
        "plot_mi(mi, pv)\nplt.show()"
      ]
    },
    {
      "cell_type": "markdown",
      "metadata": {},
      "source": [
        "## Stimulus-specificity of the undirected connectivity\n\nFrom the figure above, nodes X and Y present an activity that is modulated\naccording to the stimulus, but not Z. The next question we can ask is\nwhether the connectivity strength is also modulated by the stimulus. To this\nend, we are going to compute the undirected Dynamic Functional Connectivity\n(DFC) which is simply defined as the information shared between two nodes\ninside sliding windows. Hence, here, the DFC is computed for each trial\ninside consecutive windows\n\n"
      ]
    },
    {
      "cell_type": "code",
      "execution_count": null,
      "metadata": {
        "collapsed": false
      },
      "outputs": [],
      "source": [
        "# define the sliding windows\nslwin_len = .3    # 100ms window length\nslwin_step = .02  # 80ms between consecutive windows\nwin_sample = define_windows(times, slwin_len=slwin_len,\n                            slwin_step=slwin_step)[0]\n\n# compute the DFC for each subject\ndfc = []\nfor n_s in range(n_subjects):\n    _dfc = conn_dfc(x[n_s].data, win_sample, times=times, roi=roi,\n                    verbose=False)\n    # reset trials dimension\n    _dfc['trials'] = x[n_s]['trials'].data\n    dfc += [_dfc]"
      ]
    },
    {
      "cell_type": "markdown",
      "metadata": {},
      "source": [
        "now we can plot the dfc by concatenating all of the subjects\n\n"
      ]
    },
    {
      "cell_type": "code",
      "execution_count": null,
      "metadata": {
        "collapsed": false
      },
      "outputs": [],
      "source": [
        "dfc_suj = xr.concat(dfc, 'trials').groupby('trials').mean('trials')\ndfc_suj.plot.line(x='times', col='roi', hue='trials')\nplt.show()"
      ]
    },
    {
      "cell_type": "markdown",
      "metadata": {},
      "source": [
        "as shown in the figure above, the undirected connectivity between node X and\nY is modulated according to the stimulus. But we can test still using the\nworkflow of mutual information\n\n"
      ]
    },
    {
      "cell_type": "code",
      "execution_count": null,
      "metadata": {
        "collapsed": false
      },
      "outputs": [],
      "source": [
        "ds_dfc = DatasetEphy(dfc, y='trials', times='times', roi='roi')\nwf_dfc = WfMi(mi_type='cd', inference='rfx')\nmi_dfc, pv_dfc = wf_dfc.fit(ds_dfc, n_perm=200, n_jobs=1, random_state=0)\n\n# finally, plot the DFC\nplot_mi(mi_dfc, pv_dfc)\nplt.show()"
      ]
    },
    {
      "cell_type": "markdown",
      "metadata": {},
      "source": [
        "## Stimulus-specificity of the directed connectivity\n\nThe final point of this tutorial is to try to compute the directed\nconnectivity and perform the stats on it to see whether the information is\nsent from one region to another (which should be X->Y)\n\n"
      ]
    },
    {
      "cell_type": "code",
      "execution_count": null,
      "metadata": {
        "collapsed": false
      },
      "outputs": [],
      "source": [
        "# covgc settings\ndt = 50\nlag = 5\nstep = 3\nt0 = np.arange(lag, len(times) - dt, step)\n\n# compute the covgc for each subject\ngc = []\nfor n_s in range(n_subjects):\n    _gc = conn_covgc(x[n_s], roi='roi', times='times', dt=dt, lag=lag, t0=t0,\n                     n_jobs=1)\n    gc += [_gc]\ngc_times, gc_roi = _gc['times'].data, _gc['roi'].data\n\n# plot the mean covgc across subjects\ngc_suj = xr.concat(gc, 'trials').groupby('trials').mean('trials')\n\nfig, gs  = plt.subplots(3, 3, sharex='all', sharey='all',\n                        figsize=(12, 12))\nfor n_d, direction in enumerate(['x->y', 'y->x', 'x.y']):\n    for n_r, r in enumerate(gc_roi):\n        gc_dir_r = gc_suj.sel(direction=direction, roi=r)\n\n        plt.sca(gs[n_d, n_r])\n        plt.plot(gc_times, gc_dir_r.sel(trials=1), color='red')\n        plt.plot(gc_times, gc_dir_r.sel(trials=2), color='green')\n        plt.xlabel('Times'), plt.ylabel('MI (bits)')\n        if direction == 'x->y':\n            tit = f\"{r[0].upper()}->{r[-1].upper()}\"\n        elif direction == 'y->x':\n            tit = f\"{r[-1].upper()}->{r[0].upper()}\"\n        elif direction == 'x.y':\n            tit = f\"{r[0].upper()}.{r[-1].upper()}\"\n        plt.title(tit)\n        plt.axvline(0, lw=2, color='k')\nplt.tight_layout()\nplt.show()"
      ]
    },
    {
      "cell_type": "markdown",
      "metadata": {},
      "source": [
        "finally, we can can compute the MI between the covgc (i.e for each direction)\nand the stimulus\n\n"
      ]
    },
    {
      "cell_type": "code",
      "execution_count": null,
      "metadata": {
        "collapsed": false
      },
      "outputs": [],
      "source": [
        "mi_gc, pv_gc = {}, {}\nfor direction in ['x->y', 'y->x', 'x.y']:\n    # build the dataset for a single direction\n    gc_dir = [k.sel(direction=direction).squeeze() for k in gc]\n    # define an electrophysiological dataset\n    ds_gc = DatasetEphy(gc_dir, y='trials', roi='roi', times='times')\n    # compute and store the MI and p-values\n    wf_gc = WfMi(mi_type='cd', inference='rfx')\n    _mi_gc, _pv_gc = wf_gc.fit(ds_gc, n_perm=200, n_jobs=1, random_state=0)\n    mi_gc[direction] = _mi_gc\n    pv_gc[direction] = _pv_gc\n\n# convert the mi and p-values to a DataArray\nmi_gc = xr.Dataset(mi_gc).to_array('direction')\npv_gc = xr.Dataset(pv_gc).to_array('direction')"
      ]
    },
    {
      "cell_type": "markdown",
      "metadata": {},
      "source": [
        "plot the result\n\n"
      ]
    },
    {
      "cell_type": "code",
      "execution_count": null,
      "metadata": {
        "collapsed": false
      },
      "outputs": [],
      "source": [
        "# sphinx_gallery_thumbnail_number = 6\nfig, gs  = plt.subplots(3, 3, sharex='all', sharey='all', figsize=(12, 12))\nfor n_d, direction in enumerate(['x->y', 'y->x', 'x.y']):\n    for n_r, r in enumerate(gc_roi):\n        # select mi and p-values computed on covgc\n        mi_gc_dir_r = mi_gc.sel(direction=direction, roi=r)\n        pv_gc_dir_r = pv_gc.sel(direction=direction, roi=r)\n\n        # set to nan non-significant values\n        mi_gc_s = mi_gc_dir_r.copy()\n        mi_gc_s[pv_gc_dir_r >= .05] = np.nan\n\n        plt.sca(gs[n_d, n_r])\n        plt.plot(gc_times, mi_gc_dir_r, color='black', lw=1)\n        plt.plot(gc_times, mi_gc_s, color='red', lw=3)\n        plt.xlabel('Times'), plt.ylabel('MI (bits)')\n        if direction == 'x->y':\n            tit = f\"{r[0].upper()}->{r[-1].upper()}\"\n        elif direction == 'y->x':\n            tit = f\"{r[-1].upper()}->{r[0].upper()}\"\n        elif direction == 'x.y':\n            tit = f\"{r[0].upper()}.{r[-1].upper()}\"\n        plt.title(tit)\n        plt.axvline(0, lw=2, color='k')\nplt.tight_layout()\nplt.show()"
      ]
    }
  ],
  "metadata": {
    "kernelspec": {
      "display_name": "Python 3",
      "language": "python",
      "name": "python3"
    },
    "language_info": {
      "codemirror_mode": {
        "name": "ipython",
        "version": 3
      },
      "file_extension": ".py",
      "mimetype": "text/x-python",
      "name": "python",
      "nbconvert_exporter": "python",
      "pygments_lexer": "ipython3",
      "version": "3.8.18"
    }
  },
  "nbformat": 4,
  "nbformat_minor": 0
}